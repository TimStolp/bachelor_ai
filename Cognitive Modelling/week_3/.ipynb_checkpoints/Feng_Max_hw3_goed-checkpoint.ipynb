{
 "cells": [
  {
   "cell_type": "code",
   "execution_count": 1,
   "metadata": {},
   "outputs": [],
   "source": [
    "from scipy import stats\n",
    "import numpy as np\n",
    "import random\n",
    "\n",
    "%matplotlib inline\n",
    "import matplotlib.pyplot as plt"
   ]
  },
  {
   "cell_type": "markdown",
   "metadata": {},
   "source": [
    "# Q-Learning\n",
    "\n",
    "Q-learning algorithmes zijn gebaseerd op de TD-learning modellen die we eerder hebben besproken. Q-learning leert direct de associatie tussen states, actions en outcomes. De robot gaat nu dus niet alleen maar belongingen krijgen maar ook uitzoeken welke handeling de beste is geveven de situatie. \n",
    "\n",
    "Details over Q-learning zijn terug te vinden in de college slides en het hoofdstuk van Gureckis & Love [**computational reinforcement learning**](http://bradlove.org/papers/GureckisLovePress.pdf) en voor meer verdieping in het online boek van [**Sutton & Barto**](http://incompleteideas.net/book/bookdraft2018jan1.pdf) en dan met name hoofdstuk 6.\n",
    "\n",
    "Het leren in deze opdracht speelt zich af in een simpel **Markov Decision Process** met de volgende structuur:\n",
    "\n",
    "![](bandit_arms.png)\n",
    "\n",
    "In deze taak moet de robot telkens uit een van de schatkisten iets pakken. In sommige schatkisten zit meer geld dan in anderen, maar de robot weet in het begin nog niks over de schatkisten, en verwacht er maar weinig van. In elke ronde wordt uitkomst van een schatkist bepaald door een trekking van een waarde uit een normaalverdeling.\n",
    "\n",
    "De uitkomsten van schatkisten verschillen in hun gemiddelde maar niet de variatie (standaard deviatie). \n",
    "\n",
    "**Let op:** In dit simpele experiment is er maar een state, waarin de robot telkens terugkeert na het maken van een keuze. Dit heeft als gevolg dat bij het leren geen rekening gehouden hoeft te worden met de actie in de volgende state gemaakt wordt. De standaard prediction-error:\n",
    "\n",
    "$$\\delta = r_{t+1} + \\gamma\\ max_a\\ Q(s_{t+1} , a) − Q(s_t , a_t)$$\n",
    "\n",
    "verandert dus simpelweg in:\n",
    "$$\\delta = r_{t+1} − Q(s_t , a_t)$$\n",
    "\n",
    "In het begin van het experiment heeft de robot geen enkele kennis van de wereld en geen enkele verwachtingen voor van het krijgen van beloningen. Voor elke schatkist geldt:\n",
    "\n",
    "$$Q(1)=Q(2)=Q(3)=Q(4)=0$$\n",
    "\n"
   ]
  },
  {
   "cell_type": "markdown",
   "metadata": {},
   "source": [
    "### Q1.a (5 punten)\n",
    "\n",
    "Schrijf de Q-learning functie op die de nieuwe waarde Q uitrekent nadat de robot een schatkist heeft uitgekozen. Welke vrije variabele heeft deze functie en wat is zijn rol in leren? \n"
   ]
  },
  {
   "cell_type": "markdown",
   "metadata": {},
   "source": [
    "$$Q(s_t, a_t) = Q(s_t, a_t) + \\alpha\\delta$$\n",
    "oftewel\n",
    "\n",
    "$$   Q(s_t, a_t) = Q(s_t, a_t) + \\alpha(r_{t+1} - Q(s_t, a_t))$$\n",
    "\n",
    "De vrije variabele is $\\alpha$, dit is de learning rate die bepaalt hoe snel het model leert."
   ]
  },
  {
   "cell_type": "markdown",
   "metadata": {},
   "source": [
    "### Q1.b (5 punten)\n",
    "\n",
    "Stel de robot selecteert schatkist 1 en vindt twee munten. Wat is hierna de waarde van Q(1)? rapporteer dit voor\n",
    "$\\alpha=0.5$ en $\\alpha=0.2$"
   ]
  },
  {
   "cell_type": "markdown",
   "metadata": {},
   "source": [
    "> $a=0.5$\n",
    ">\n",
    "> $Q(1) = Q(1) + \\alpha(r_{t+1} - Q(1)) = 0 + 0.5*(2 - 0) = 1$\n",
    ">\n",
    "> $a=0.2$\n",
    ">\n",
    "> $Q(1) = Q(1) + \\alpha(r_{t+1} - Q(1)) = 0 + 0.2*(2 - 0) = 0.4$\n",
    "\n"
   ]
  },
  {
   "cell_type": "markdown",
   "metadata": {},
   "source": [
    "### Q1.c (10 punten)\n",
    "\n",
    "Schrijf een functie `q_learn` die als input, alpha ($\\alpha$), epsilon($\\epsilon$) en rondes (trials) accepteert. De output van deze functie moet een lijst met $Q$ waarden zijn voor elke schatkist (1 t/m 4) in de wereld van de robot na het leren van een aantal rondes. We gaan er nu van uit dat de robot de $\\epsilon$-greedy keuze regel toepast.\n",
    "\n",
    "* Initieer de verwachtingen van de robot voor de 4 keuzes:\n",
    "    * Q(1)=Q(2)=Q(3)=Q(4)=0. \n",
    "* Intieer total_score = 0\n",
    "* Initieer de beloningen voor de 4 schatkisten:\n",
    "    * K(1): mean=20, SD=4\n",
    "    * K(2): mean=30, SD=4\n",
    "    * K(3): mean=50, SD=4\n",
    "    * K(4): mean=70, SD=4\n",
    "* Creëer een for-loop over alle rondes:\n",
    "    * Elke ronde selecteert de robot een kist op basis van $\\epsilon$-greedy. Denk er aan bij explore een random kist, bij exploit de kist met hoogste Q-value (als er meerdere de hoogste waarde hebben, daar weer random uit kiezen). \n",
    "    * Kijk wat de beloning is na maken van een keuze, en update dan Q-value van die kist. \n",
    "* zorg dat deze functie de volgende lijsten als output heeft: final Q values, total_score, en voor elke schatkist een lijst wanneer deze gekozen werd (1 voor gekozen een 0 wanneer niet gekozen). Dit resulteert in 4 lijsten met keuzes die gebruikt kunnen worden voor het plotten van het gedrag van het model.\n",
    "\n",
    "\n",
    "Laat me behulp van deze functie de robot 200 rondes leren over deze wereld (1 leer episode bestaat dus uit 200 rondes). Hoe zien zijn verwachtingen (Q-values) voor de schatkisten aan het eind van het experiment er uit gegeven\n",
    "\n",
    "1. $\\alpha = 0.1$ en $\\epsilon = 0.1$\n",
    "2. $\\alpha = 0.5$ en $\\epsilon = 0.1$\n",
    "\n",
    "Laat voor beide modellen zien wat de totale verdiende score is gedurende de trails, wat de geleede Q-values zijn voor elke kist en plot hoe de keuzes voor de verschillende kisten veranderen gedurende de trails.\n",
    "\n",
    "Voor het plotten van keuzes is het handig om naar het gemiddels van bins van 10 trails tegelijk te kijken. Alvast wat code om je beetje op weg te helpen:\n",
    "```python\n",
    "# Width is de grote van elke bin\n",
    "width = 10\n",
    "# Hier knippen we de laatste (choicelist_1.size % width) elementen van de lijst\n",
    "# Dan reshapen we naar een matrix van X * width en nemen we de mean over de width axis\n",
    "# Hiermee krijgen we dus het gemiddelde aantal keer dat deze keuze gemaakt is voor width stappen\n",
    "result1 = choicelist_1[:(choicelist_1.size // width * width)].reshape(-1, width).mean(axis=1)\n",
    "plt.plot(result1, label=r\"$1$\")\n",
    "```\n",
    "\n",
    "Welk van de twee geleerde modellen zit dichter bij de waarheid op basis van deze resultaten?\n"
   ]
  },
  {
   "cell_type": "markdown",
   "metadata": {},
   "source": [
    "> Model 2 is beter, want de Q-values hiervan komen dichter bij de means van de normaalverdelingen van de beloningen dan model 1."
   ]
  },
  {
   "cell_type": "code",
   "execution_count": 2,
   "metadata": {},
   "outputs": [
    {
     "name": "stdout",
     "output_type": "stream",
     "text": [
      "Total score model 1 = 13381.003028254161\n",
      "Q values model 1 = [11.616478376394973, 10.408010386691636, 23.155857281876834, 70.12724709396606]\n",
      "Total score model 2 = 13385.538596427328\n",
      "Q values model 2 = [19.75102678791631, 29.35221914749625, 44.17254251094133, 71.70117914667125]\n"
     ]
    }
   ],
   "source": [
    "def q_learn(alpha, epsilon, trials):\n",
    "    q_1 = q_2 = q_3 = q_4 = 0\n",
    "    q_values = [q_1, q_2, q_3, q_4]\n",
    "    \n",
    "    total_score = 0\n",
    "    \n",
    "    q1_list = np.zeros(trials)\n",
    "    q2_list = np.zeros(trials)\n",
    "    q3_list = np.zeros(trials)\n",
    "    q4_list = np.zeros(trials)\n",
    "    choose_values = [q1_list, q2_list, q3_list, q4_list]\n",
    "    \n",
    "    for i in range(trials):\n",
    "        k_1 = np.random.normal(20, 4)\n",
    "        k_2 = np.random.normal(30, 4)\n",
    "        k_3 = np.random.normal(50, 4)\n",
    "        k_4 = np.random.normal(70, 4)\n",
    "        chests = [k_1, k_2, k_3, k_4]\n",
    "        \n",
    "        if np.random.random() < epsilon or i == 0:\n",
    "            index = random.randint(0, 3)\n",
    "        else:\n",
    "            index = q_values.index(max(q_values))\n",
    "\n",
    "        q_values[index] = q_values[index] + alpha * (chests[index] - q_values[index])\n",
    "        total_score += chests[index]\n",
    "        choose_values[index][i] = 1\n",
    "    return q_values, total_score, choose_values\n",
    "\n",
    "data_1 = q_learn(0.1, 0.1, 200)\n",
    "print(\"Total score model 1 =\", data_1[1])\n",
    "print(\"Q values model 1 =\", data_1[0])\n",
    "data_2 = q_learn(0.5, 0.1, 200)\n",
    "print(\"Total score model 2 =\", data_2[1])\n",
    "print(\"Q values model 2 =\", data_2[0])"
   ]
  },
  {
   "cell_type": "code",
   "execution_count": 3,
   "metadata": {},
   "outputs": [
    {
     "data": {
      "image/png": "[encoded data removed]",
      "text/plain": [
       "<matplotlib.figure.Figure at 0x2642949dac8>"
      ]
     },
     "metadata": {},
     "output_type": "display_data"
    },
    {
     "data": {
      "image/png": "[encoded data removed]",
      "text/plain": [
       "<matplotlib.figure.Figure at 0x2642b4ebf98>"
      ]
     },
     "metadata": {},
     "output_type": "display_data"
    }
   ],
   "source": [
    "def plot_chests(width, choice1, choice2, choice3, choice4):\n",
    "    result1 = choice1[:(choice1.size // width * width)].reshape(-1, width).mean(axis=1)\n",
    "    plt.plot(result1, label=r\"$1$\")\n",
    "    result2 = choice2[:(choice2.size // width * width)].reshape(-1, width).mean(axis=1)\n",
    "    plt.plot(result2, label=r\"$2$\")\n",
    "    result3 = choice3[:(choice3.size // width * width)].reshape(-1, width).mean(axis=1)\n",
    "    plt.plot(result3, label=r\"$3$\")\n",
    "    result4 = choice4[:(choice4.size // width * width)].reshape(-1, width).mean(axis=1)\n",
    "    plt.plot(result4, label=r\"$4$\")\n",
    "\n",
    "    plt.legend([\"First chest\", \"Second chest\", \"Third chest\", \"Fourth chest\"])\n",
    "    plt.xlabel(\"Bins of 10 elements\")\n",
    "    plt.ylabel(\"Mean\")\n",
    "    plt.show()\n",
    "\n",
    "width = 10\n",
    "\n",
    "choicelist_1 = np.array(data_1[2][0])\n",
    "choicelist_2 = np.array(data_1[2][1])\n",
    "choicelist_3 = np.array(data_1[2][2])\n",
    "choicelist_4 = np.array(data_1[2][3])\n",
    "plt.title(\"Model 1, alpha = 0.1\")\n",
    "plot_chests(width, choicelist_1, choicelist_2, choicelist_3, choicelist_4)\n",
    "\n",
    "\n",
    "choicelist_1 = np.array(data_2[2][0])\n",
    "choicelist_2 = np.array(data_2[2][1])\n",
    "choicelist_3 = np.array(data_2[2][2])\n",
    "choicelist_4 = np.array(data_2[2][3])\n",
    "plt.title(\"Model 2, alpha = 0.5\")\n",
    "plot_chests(width, choicelist_1, choicelist_2, choicelist_3, choicelist_4)\n"
   ]
  },
  {
   "cell_type": "markdown",
   "metadata": {},
   "source": [
    "### Q1.d (10 punten)\n",
    "\n",
    "Laten we nu kijken hoe succesvol de verschillende strategieën (lees combinatie van parameter waardes) zijn. \n",
    "\n",
    "Schrijf nu een loop die `q_learn` 500 keer aanroept met een bepaalde parameter setting (en altijd 200 leerrondes) en sla telkens het totaal aantal punten op, zodat je aan het eind een lijst hebt van 500 totaal scores. \n",
    "\n",
    "Vergelijk het gemiddelde van die 500 totaalscores voor $\\alpha=0.1$, $\\alpha=0.3$ en $\\alpha=0.5$ met $\\epsilon=0.1$ voor alle experimenten. Leg uit hoe de verschillen tot stand komen. \n"
   ]
  },
  {
   "cell_type": "markdown",
   "metadata": {},
   "source": [
    "> De verschillen komen tot stand door de learning rate $\\alpha$. Deze bepaalt hoe snel het model leert van verkeerde voorspellingen over de wereld. Hoe sneller hij betere acties leert, hoe hoger zijn totale score wordt."
   ]
  },
  {
   "cell_type": "code",
   "execution_count": 4,
   "metadata": {},
   "outputs": [
    {
     "name": "stdout",
     "output_type": "stream",
     "text": [
      "Mean total score for alpha= 0.1 and epsilon=0.1 is  9837.279519545094\n",
      "Mean total score for alpha= 0.3 and epsilon=0.1 is  11696.566633543394\n",
      "Mean total score for alpha= 0.5 and epsilon=0.1 is  12236.476042101536\n"
     ]
    }
   ],
   "source": [
    "for alpha in [0.1, 0.3, 0.5]:\n",
    "    score = []\n",
    "    for i in range(500):\n",
    "        score.append(q_learn(alpha, 0.1, 200)[1])\n",
    "    print(\"Mean total score for alpha=\", alpha, end=\"\")\n",
    "    print(\" and epsilon=0.1 is \", sum(score)/500)"
   ]
  },
  {
   "cell_type": "markdown",
   "metadata": {},
   "source": [
    "# Exploration-Exploitation\n",
    "\n",
    "We gaan nu dieper in op het exploration vs. exploitation dilemma. Laten we eerst kijken hoe verschillende e parameters uitwerking hebben op het aantal punten dat gewonnen wordt. Gebruik hier de functie van q_learn van de vorige vraag met $\\epsilon=0.05$, $\\epsilon=0.2$ en $\\epsilon=0.6$ en met $\\alpha=0.3$ voor alle experimenten. \n",
    "\n",
    "### Q2.a (10 punten)\n",
    "\n",
    "Kijk voor elke parameter setting weer naar de gemiddelde totaal score van 500 leer episodes. Waar ligt ongeveer het optimale niveau van exploratie?"
   ]
  },
  {
   "cell_type": "markdown",
   "metadata": {},
   "source": [
    "> Het optimale niveau van exploratie ligt bij een epsilon van 0.2."
   ]
  },
  {
   "cell_type": "code",
   "execution_count": 5,
   "metadata": {},
   "outputs": [
    {
     "name": "stdout",
     "output_type": "stream",
     "text": [
      "Mean total score for epsilon= 0.05 and alpha=0.3 is  10808.978250474098\n",
      "Mean total score for epsilon= 0.2 and alpha=0.3 is  12028.434618068237\n",
      "Mean total score for epsilon= 0.6 and alpha=0.3 is  10605.364945800819\n"
     ]
    }
   ],
   "source": [
    "\n",
    "for epsilon in [0.05, 0.2, 0.6]:\n",
    "    score = []\n",
    "    for i in range(500):\n",
    "        score.append(q_learn(0.3, epsilon, 200)[1])\n",
    "    print(\"Mean total score for epsilon=\", epsilon, end=\"\")\n",
    "    print(\" and alpha=0.3 is \", sum(score)/500)"
   ]
  },
  {
   "cell_type": "markdown",
   "metadata": {},
   "source": [
    "### Q2.b (10 punten)\n",
    "\n",
    "Pas nu `q_learn` zo aan dat de parameter $\\epsilon$ gedurende een leer episode steeds kleiner wordt. Dit kan bijvoorbeeld door elke ronde $\\epsilon$ met een vast percentage te verkleinen (denk aan iets tussen 0 en 10%), maar andere manieren zijn ook mogelijk. Sla dit model op als `q_learn_decay`."
   ]
  },
  {
   "cell_type": "code",
   "execution_count": 6,
   "metadata": {},
   "outputs": [],
   "source": [
    "def q_learn_decay(alpha, epsilon, trials):\n",
    "    q_1 = q_2 = q_3 = q_4 = 0\n",
    "    q_values = [q_1, q_2, q_3, q_4]\n",
    "    \n",
    "    total_score = 0\n",
    "    \n",
    "    q1_list = np.zeros(trials)\n",
    "    q2_list = np.zeros(trials)\n",
    "    q3_list = np.zeros(trials)\n",
    "    q4_list = np.zeros(trials)\n",
    "    choose_values = [q1_list, q2_list, q3_list, q4_list]\n",
    "    \n",
    "    for i in range(trials):\n",
    "        k_1 = np.random.normal(20, 4)\n",
    "        k_2 = np.random.normal(30, 4)\n",
    "        k_3 = np.random.normal(50, 4)\n",
    "        k_4 = np.random.normal(70, 4)\n",
    "        chests = [k_1, k_2, k_3, k_4]\n",
    "        \n",
    "        if np.random.random() < epsilon or i == 0:\n",
    "            index = random.randint(0, 3)\n",
    "        else:\n",
    "            index = q_values.index(max(q_values))\n",
    "\n",
    "        q_values[index] = q_values[index] + alpha * (chests[index] - q_values[index])\n",
    "        total_score += chests[index]\n",
    "        choose_values[index][i] = 1\n",
    "        epsilon = 0.95 * epsilon # Epsilon updated here\n",
    "    return q_values, total_score, choose_values"
   ]
  },
  {
   "cell_type": "markdown",
   "metadata": {},
   "source": [
    "### Q2.c (10 punten)\n",
    "\n",
    "Kijk nu naar een aantal beginwaarden voor parameter $\\epsilon$, en kijk welk model meer punten kan verdienen in de taak (verken hier waarden van $\\epsilon$ tussen .1 en .9). Gebruik weer het gemiddelde aantal punten over 500 leer episodes (en nog steeds 200 rondes per episode en $\\alpha =  0.3$). Welk model is het beste en waarom denk je dat dit zo is?\n"
   ]
  },
  {
   "cell_type": "markdown",
   "metadata": {},
   "source": [
    "> Het model q_learn_decay is uiteindelijk het beste, omdat dit model een hogere maximale score kan behalen dan het andere model. Bij een epsilon van 0.9 heeft dit namelijk een score van 12867, terwijl de hoogste score van het andere model ten hoogste 12031 wordt (epsilon = 0.2).\n",
    "\n",
    ">Dit komt waarschijnlijk doordat het q_learn_decay zijn epsilon (exploration rate) kan verlagen gedurende zijn leer periode. Aan het begin van zo'n leer periode is het belangrijk om alles te hebben ontdekt, en daarna pas meer te exploiteren. Bij het normale model kan dit niet, want je kunt de epsilon niet aanpassen."
   ]
  },
  {
   "cell_type": "code",
   "execution_count": 7,
   "metadata": {},
   "outputs": [
    {
     "name": "stdout",
     "output_type": "stream",
     "text": [
      "Normal model with epsilon 0.1= 11614.310407707706\n",
      "Decay model with epsilon 0.1= 9668.5383459423\n",
      "\n",
      "Normal model with epsilon 0.2= 12029.550382565469\n",
      "Decay model with epsilon 0.2= 10619.124135899467\n",
      "\n",
      "Normal model with epsilon 0.3= 11875.387322494413\n",
      "Decay model with epsilon 0.3= 11097.002509244388\n",
      "\n",
      "Normal model with epsilon 0.4= 11485.46003750398\n",
      "Decay model with epsilon 0.4= 11821.111291624047\n",
      "\n",
      "Normal model with epsilon 0.5= 11036.146507990861\n",
      "Decay model with epsilon 0.5= 12241.106979448616\n",
      "\n",
      "Normal model with epsilon 0.6= 10583.230787956181\n",
      "Decay model with epsilon 0.6= 12444.317610889853\n",
      "\n",
      "Normal model with epsilon 0.7= 10057.86563132871\n",
      "Decay model with epsilon 0.7= 12623.64304786788\n",
      "\n",
      "Normal model with epsilon 0.8= 9568.948989212611\n",
      "Decay model with epsilon 0.8= 12784.596930915754\n",
      "\n",
      "Normal model with epsilon 0.9= 9050.296992013868\n",
      "Decay model with epsilon 0.9= 12943.167596825073\n",
      "\n"
     ]
    },
    {
     "data": {
      "image/png": "[encoded data removed]",
      "text/plain": [
       "<matplotlib.figure.Figure at 0x26429488fd0>"
      ]
     },
     "metadata": {},
     "output_type": "display_data"
    }
   ],
   "source": [
    "scores = []\n",
    "scores_decay = []\n",
    "epsilons = [0.1, 0.2, 0.3, 0.4, 0.5, 0.6, 0.7, 0.8, 0.9]\n",
    "for epsilon in epsilons:\n",
    "    score = []\n",
    "    score_decay = []\n",
    "    for i in range(500):\n",
    "        score.append(q_learn(0.3, epsilon, 200)[1])\n",
    "        score_decay.append(q_learn_decay(0.3, epsilon, 200)[1])\n",
    "    scores.append(sum(score)/500)\n",
    "    scores_decay.append(sum(score_decay)/500)\n",
    "    print(\"Normal model with epsilon\", epsilon, end=\"\")\n",
    "    print(\"=\", sum(score)/500)\n",
    "    print(\"Decay model with epsilon\", epsilon, end=\"\")\n",
    "    print(\"=\", sum(score_decay)/500)\n",
    "    print(\"\")\n",
    "\n",
    "plt.plot(epsilons, scores_decay, label='score with decay')\n",
    "plt.plot(epsilons, scores, label='score')\n",
    "plt.xlabel(\"Epsilon\")\n",
    "plt.ylabel(\"Total score\")\n",
    "plt.legend()\n",
    "plt.show()"
   ]
  },
  {
   "cell_type": "markdown",
   "metadata": {},
   "source": [
    "## Softmax\n",
    "\n",
    "Een andere zeer populaire methode om exploratie te implementeren is de softmax regel. Deze kan gebruikt worden om de waarschijnlijkheid uit te rekenen dat de robot een specifieke kist kiest. Bijvoorbeeld de waarschijnlijkheid dat de robot op een bepaald moment kist 1 kiest is:\n",
    "\n",
    "$$P(Q(1)) = \\frac{e(Q(1)*theta)}{\\sum_s e(Q(s)*theta)}$$\n",
    "\n",
    "Voor kist 2:\n",
    "\n",
    "$$P(Q(2)) = \\frac{e(Q(2)*theta)}{\\sum_s e(Q(s)*theta)}$$\n",
    "\n",
    "En natuurlijk:\n",
    "\n",
    "$$P(Q(1))+ P(Q(2)) +P(Q(3))+ P(Q(2)) = 1  (100\\%)$$\n",
    "\n",
    "want de robot kiest altijd een van de 4 opties, dus samen moeten dat 100% kans zijn.\n",
    "\n",
    "Implementeer nu de softmax regel in de `q_learn` functie en geef deze de naam `q_learn_softmax`.\n",
    "\n",
    "* Gebruik elke ronde de $P(Q)$ informatie om de robot een kist te laten kiezen.\n",
    "* Zorg ook dat deze elke ronde de waarschijnlijkheid $P(Q)$ van het kiezen van elke kist wordt opgeslagen zodat we hier later weer naar kunnen kijken. \n",
    "\n",
    "Gebruik dit model weer om de gemiddelde score voor 500 episodes voor verschillende waardes van theta (waardes tussen $0.01$ en $1$, op zn minst 5) met elkaar te vergelijken, met wederom 200 rondes per episode en een $\\alpha$ van $0.3$, gebruik makende van de methode die we hier boven ontwikkeld hebben. \n",
    "\n",
    "\n",
    "### Q3.a (10 punten)\n",
    "\n",
    "Wat is ongeveer de optimale waarde voor theta, hoe verhoud dit model zich tot de simpele versie van $\\epsilon$-greedy? Hoe gedraagt het model zicht met een hoge waarde van theta, en hoe met een lage?"
   ]
  },
  {
   "cell_type": "markdown",
   "metadata": {},
   "source": [
    ">De optimale waarde voor theta zit rond de 0.1, en vergeleken met de simpele versie van $\\epsilon$-greedy presteert het softmax model iets beter. Voor eenzelfde learning rate kan het softmax model toch een hogere maximum score behalen (vergelijk vraag 2.C). Met een hogere waarde van theta presteert het model slechter, en met een relatief lagere waarde juist beter."
   ]
  },
  {
   "cell_type": "code",
   "execution_count": 8,
   "metadata": {},
   "outputs": [],
   "source": [
    "def q_learn_softmax(alpha, theta, trials):\n",
    "    q_1 = q_2 = q_3 = q_4 = 0\n",
    "    q_values = [q_1, q_2, q_3, q_4]\n",
    "    \n",
    "    total_score = 0\n",
    "    \n",
    "    q1_list = np.zeros(trials)\n",
    "    q2_list = np.zeros(trials)\n",
    "    q3_list = np.zeros(trials)\n",
    "    q4_list = np.zeros(trials)\n",
    "    choose_values = [q1_list, q2_list, q3_list, q4_list]\n",
    "    \n",
    "    p_q1 = p_q2 = p_q3 = p_q4 = 0.25\n",
    "    p_q1_list = []\n",
    "    p_q2_list = []\n",
    "    p_q3_list = []\n",
    "    p_q4_list = []\n",
    "    \n",
    "    index = random.randint(0, 3)\n",
    "    for i in range(trials):\n",
    "        k_1 = np.random.normal(20, 4)\n",
    "        k_2 = np.random.normal(30, 4)\n",
    "        k_3 = np.random.normal(50, 4)\n",
    "        k_4 = np.random.normal(70, 4)\n",
    "        chests = [k_1, k_2, k_3, k_4]\n",
    "        \n",
    "        # get the probabilities for each q\n",
    "        sum_denominator = sum([np.exp(q * theta) for q in q_values])\n",
    "        p_q1 = np.exp(q_values[0] * theta) / sum_denominator\n",
    "        p_q2 = np.exp(q_values[1] * theta) / sum_denominator\n",
    "        p_q3 = np.exp(q_values[2] * theta) / sum_denominator\n",
    "        p_q4 = np.exp(q_values[3] * theta) / sum_denominator\n",
    "        index = np.random.choice(4, p=[p_q1, p_q2, p_q3, p_q4])\n",
    "        action = chests[index]\n",
    "\n",
    "        q_values[index] = q_values[index] + alpha * (chests[index] - q_values[index])\n",
    "        choose_values[index][i] = 1\n",
    "        \n",
    "        p_q1_list.append(p_q1)\n",
    "        p_q2_list.append(p_q2)\n",
    "        p_q3_list.append(p_q3)\n",
    "        p_q4_list.append(p_q4)\n",
    "        \n",
    "        total_score += chests[index]\n",
    "\n",
    "    prob_list = [p_q1_list, p_q2_list, p_q3_list, p_q4_list]\n",
    "    return q_values, total_score, choose_values, prob_list"
   ]
  },
  {
   "cell_type": "code",
   "execution_count": 9,
   "metadata": {},
   "outputs": [
    {
     "name": "stdout",
     "output_type": "stream",
     "text": [
      "Softmax model with theta 0.01= 9212.61834012244\n",
      "Softmax model with theta 0.1= 12450.936045470993\n",
      "Softmax model with theta 0.25= 10556.666778077666\n",
      "Softmax model with theta 0.4= 8762.771891212233\n",
      "Softmax model with theta 0.6= 8931.334557155784\n",
      "Softmax model with theta 0.8= 8533.205599258936\n",
      "Softmax model with theta 1.0= 8790.716517979265\n"
     ]
    },
    {
     "data": {
      "image/png": "[encoded data removed]",
      "text/plain": [
       "<matplotlib.figure.Figure at 0x2642b61ec88>"
      ]
     },
     "metadata": {},
     "output_type": "display_data"
    }
   ],
   "source": [
    "scores = []\n",
    "thetas = [0.01, 0.1, 0.25, 0.4, 0.6, 0.8, 1.0]\n",
    "for theta in thetas:\n",
    "    score_softmax = []\n",
    "    for i in range(500):\n",
    "        score_softmax.append(q_learn_softmax(0.3, theta, 200)[1])\n",
    "    scores.append(sum(score_softmax)/500)\n",
    "    print(\"Softmax model with theta\", theta, end=\"\")\n",
    "    print(\"=\", sum(score_softmax)/500)\n",
    "    \n",
    "plt.plot(thetas, scores, label='scores with thetas')\n",
    "plt.xlabel(\"thetas\")\n",
    "plt.ylabel(\"Total score\")\n",
    "plt.legend()\n",
    "plt.show()"
   ]
  },
  {
   "cell_type": "markdown",
   "metadata": {},
   "source": [
    "## Model fitting\n",
    "\n",
    "We gaan nu kijken naar de resultaten van een echt experiment. We hebben de data van een proefpersoon die het bovenstaande experiment heeft gespeeld. In de data file kunnen we terugvinden welke van de 4 opties zij gekozen had en hoeveel punten vervolgens elke trial verdient zijn. We gaan kijken met welke parameter waardes  Q-learning met een softmax choice rule het gedrag van de proefpersonen het beste kan voorspellen. De proefpersoon heeft 80 rondes gespeelt. \n",
    "\n",
    "Lees de data in uit *L4_data_1.txt* met behulp van [loadtxt](https://docs.scipy.org/doc/numpy/reference/generated/numpy.loadtxt.html):\n",
    "```python\n",
    "with open(\"L4_data_1.txt\") as f:\n",
    "    data = np.loadtxt(f, dtype=int, delimiter=\"\\t\", skiprows=1)\n",
    "```\n",
    "\n",
    "Pas de `q_learn_softmax` functie aan zodat je deze op de data van de proefpersonen kan fitten. (Zie LC1 voor details over hoe functies gefit moeten worden, en pseudo code onderaan voor meer hulp).\n",
    "\n",
    "Ga er van uit dat de proefpersonen enige ervaring hebben met dit type experiment en verwachten dat ze gemiddeld wel 40 punten per ronde gaan verdienen (alle Q’s starten op 40 ipv 0). \n",
    "\n",
    "We gaan voor het fitten van het model gebruik maken van minimize van scipy.optimize (`from scipy.optimize import minimize`) en we gaan proberen *Log Likelihood* te optimaliseren (mate van fit). \n",
    "\n",
    "Wat we op elke trial willen weten is wat de waarschijnlijkheid is dat het model dezelfde keuze maakte als de proefpersoon. Hoe groter de kans (likelihood) dat het model correct kiest, hoe beter het model \"fit\". \n",
    "\n",
    "In het databestand van de proefpersoon kunnen zien welke van de 4 kisten de proefpersoon koos. Dit kunnen we dan op elke ronde vergelijken met de corresponderende P(Q). In de eerste ronde zijn alle Q values nog gelijk dus zijn alle P(Q)s = .25.\n",
    "\n",
    "Voor de eerste ronde geld daarom automatisch dan waarschijnlijkheid (likelihood) van de keuze van de proefpersoon ook .25 is, maar dat gaat veranderen naarmate er geleerd wordt. \n",
    "\n",
    "In het databestand staat ook voor elke ronde wat de uitkomst van een keuze was, deze moet gebruikt worden om vervolgens de Q-values aan te passen, net als we eerder gedaan hebben in de simulaties.\n",
    "\n",
    "De output van deze functie moet de som van alle *log(P(Q(chosen)))* zijn. Let op vermenigvuldig deze som met -1. Dat doen we omdat minimize de functie probeert te minimaliseren , en we opzoek zijn naar de max LL (double negative). \n",
    "\n",
    "`**pseudo code**:`\n",
    "```python\n",
    "def q_learn_softmax_fit(params):\n",
    "    alpha, theta, init_value = params\n",
    "    nArms = 4\n",
    "    Q = np.array([init_value]*nArms)\n",
    "    LL = 0\n",
    "    \n",
    "    for row in data:\n",
    "        probs <- calculate probability of chosing each option based on theta, Qvalues and softmax\n",
    "        \n",
    "        choice <- read choice from data (each trial is one row in file)\n",
    "        outcome <- read outcomee of choice from data\n",
    "        \n",
    "        LL += np.log(probs[choice])\n",
    "        \n",
    "        Q[choice] <- update Q value\n",
    "    \n",
    "    # Scaled for minimize function\n",
    "    return -1*LL\n",
    "\n",
    "# minimize takes a few arguments (function, array of initial parameter values, minimization methods,\n",
    "# bounds are the bounds on each parameter; use bounds (same, same) to fix parameter to a single value\n",
    "res = minimize(q_learn_softmax_fit, np.array([0.5, 0.5, 40]), method='SLSQP',\n",
    "               bounds=[(0,1), (0,10), (40,40)], options={'disp':True, 'ftol':1e-16})\n",
    "```\n",
    "\n",
    "### Q4.a (10 punten)\n",
    "\n",
    "Welke parameterwaarden fitten de data van de proefpersoon het beste? Probeer eens een hogere start waarde voor Q values (>80) en hoe beïnvloed dit de model fit? \n",
    "minimize geeft ook de uiteindelijke summed LL (negatief) van het best fittende model. Deze score kan je weer omrekenen naar een gemiddelde likelihood (kans dat model juiste trial koos) per trial. Doe dit, een beoordeel de uitkomst."
   ]
  },
  {
   "cell_type": "markdown",
   "metadata": {},
   "source": [
    "\n",
    "> De beste parameterwaarden zijn alpha=0.48925202, theta=0.23180105 en init_value=40. Bij een hogere startwaarde voor Q values (100) wordt de uiteindelijke model fit niet beïnvloedt. Je ziet dat het model een lagere Q aanleert, tot aan een waarde van 40 (bij een lower bound van 40). Staat deze lower bound er niet, dan stopt het model bij een initial Q value van 24.072. Alhoewel, als je een grotere initial Q waarde dan 120 neemt, dan komt de minimize functie niet op correcte parameterwaarden. Alpha en theta zijn dan 0 en 1 respectievelijk.\n",
    "\n",
    "> $$Mean \\  Likelihood = e^{\\frac{Summed \\ Log \\  Likelihood}{rows \\ in \\ data}} = e^{\\frac{-56.082}{80}} = 0.496$$\n",
    "\n",
    "> De uitkomst is erg plausibel, want dit is een kans tussen 0 en 1."
   ]
  },
  {
   "cell_type": "code",
   "execution_count": 10,
   "metadata": {},
   "outputs": [
    {
     "name": "stdout",
     "output_type": "stream",
     "text": [
      "Optimization terminated successfully.    (Exit mode 0)\n",
      "            Current function value: 56.08185761957947\n",
      "            Iterations: 26\n",
      "            Function evaluations: 158\n",
      "            Gradient evaluations: 24\n",
      "Optimal parameters: [ 0.48925214  0.23180106 40.        ]\n",
      "Mean likelihood:  0.4960774475240448\n"
     ]
    }
   ],
   "source": [
    "import scipy\n",
    "\n",
    "with open(\"L4_data_1.txt\") as f:\n",
    "    data = np.loadtxt(f, dtype=int, delimiter=\"\\t\", skiprows=1)\n",
    "\n",
    "\n",
    "def q_learn_softmax_fit(params):\n",
    "    alpha, theta, init_value = params\n",
    "    nArms = 4\n",
    "    Q = np.array([init_value]*nArms)\n",
    "    LL = 0\n",
    "    \n",
    "    for row in data:\n",
    "        sum_denominator = sum([np.exp(q * theta) for q in Q])\n",
    "        p_q1 = np.exp(Q[0] * theta) / sum_denominator\n",
    "        p_q2 = np.exp(Q[1] * theta) / sum_denominator\n",
    "        p_q3 = np.exp(Q[2] * theta) / sum_denominator\n",
    "        p_q4 = np.exp(Q[3] * theta) / sum_denominator\n",
    "        probs = [p_q1, p_q2, p_q3, p_q4]\n",
    "        # subtract 1 since we are working with indices\n",
    "        choice = row[1] - 1\n",
    "        outcome = row[2]\n",
    "        \n",
    "        LL += np.log(probs[choice])\n",
    "        \n",
    "        Q[choice] = Q[choice] + alpha * (outcome - Q[choice])\n",
    "\n",
    "    # Scaled for minimize function\n",
    "    return -1*LL\n",
    "\n",
    "res = scipy.optimize.minimize(q_learn_softmax_fit, np.array([0.5, 0.5, 100]), method='SLSQP',\n",
    "               bounds=[(0,1), (0,10), (40,1000)], options={'disp':True, 'ftol':1e-16})\n",
    "print(\"Optimal parameters:\", res.x)\n",
    "\n",
    "mean_likelihood = np.exp((-1*res.fun) / len(data))\n",
    "print('Mean likelihood: ', mean_likelihood)"
   ]
  },
  {
   "cell_type": "markdown",
   "metadata": {},
   "source": [
    "### Q4.b (10 punten)\n",
    "\n",
    "Herschrijf de functie nogmaals en zorg ervoor dat de initialisatie van de Q waarde (de start Q waarden) ook een vrije parameter wordt. Als je dit doet kan je de start waarde vinden die het best bij het gedrag van de proefpersoon past. Rapporteer, en interpreteer deze waarde. En zorgt dit ook voor een betere model fit?"
   ]
  },
  {
   "cell_type": "markdown",
   "metadata": {},
   "source": [
    "> In de functie is de initialisatie van de Q waarde al een vrije parameter (zie pseudocode). Voor deze opdracht is dus alleen de boundary van de minimize functie weggehaald.\n",
    "\n",
    "> De beste startwaarde voor Q wordt dan 24.072. Dit komt ongeveer overeen met de probabilites van elke kist aan het begin van de leerperiode, namelijk 0.25 per kist.\n",
    "\n",
    "> Dit zorgt voor een betere model fit, want de negative Summed Log Likelihood van de functie is omlaag gegaan, van 56 naar 26."
   ]
  },
  {
   "cell_type": "code",
   "execution_count": 11,
   "metadata": {},
   "outputs": [
    {
     "name": "stdout",
     "output_type": "stream",
     "text": [
      "Optimization terminated successfully.    (Exit mode 0)\n",
      "            Current function value: 26.01003510475132\n",
      "            Iterations: 39\n",
      "            Function evaluations: 241\n",
      "            Gradient evaluations: 39\n",
      "Optimal parameters: [ 0.57894799  0.25470958 24.07209159]\n",
      "Summed LL: 26.01003510475132\n"
     ]
    }
   ],
   "source": [
    "res_2 = scipy.optimize.minimize(q_learn_softmax_fit, np.array([0.5, 0.5, 100]), method='SLSQP',\n",
    "               bounds=[(0,1), (0,10), (0,1000)], options={'disp':True, 'ftol':1e-16})\n",
    "print(\"Optimal parameters:\", res_2.x)\n",
    "print(\"Summed LL:\", res_2.fun)"
   ]
  },
  {
   "cell_type": "markdown",
   "metadata": {},
   "source": [
    "### Q4.c (10 punten)\n",
    "\n",
    "Als we de functie een klein beetje herschrijven kunnen we deze gebruiken om in het hoofd van de proefpersoon te kijken. Bijvoorbeeld we willen nu weten welke Q-values zij aan de verschillende bandits toekent. \n",
    "\n",
    "Hiervoor is alleen een kleine verandering nodig, waarbij de functie nu niet meer de LogLikelihood als output heeft maar de lijst met Q values. Pas de functie `q_learn_softmax_fit` aan zodat deze de Q-values returnt en noem de nieuwe functie `q_learn_fitted_model`. Zorg hierbij dat de `params` lijst van argumenten ook hetzelfde blijft als bij de `q_learn_softmax_fit`.\n",
    "\n",
    "Nu hoef je ook niet meer de functie fitten of minimalizeren maar alleen aan te roepen, gebruik makende van de beste gevonden `params` van de vorige stap.\n",
    "\n",
    "`q_learn_fitted_model(res.x)`\n",
    "\n",
    "Rapporteer de Q values van deze proefpersoon. In werkelijkheid waren de gemiddelde waardes van den bandits (50, 30, 20, 80). Hoe wijkt de proefpersoon hier van af en hoe is dat te verklaren (hint: kijk naar keuze gedrag, dus de selectie van bandits, in de data file)?\n"
   ]
  },
  {
   "cell_type": "markdown",
   "metadata": {},
   "source": [
    "> De Q values van deze proefpersoon zijn afgerond 49.50, 25.77, 22.30, 78.62. De proefpersoon wijkt bij de bandits 2 en 3 erg veel van de gemiddelde waardes af. Bij bandit 4 is deze afwijking een stuk minder, en bij bandit 1 is er bijna geen afwijking. \n",
    "\n",
    ">Dit is te verklaren door het aantal keer dat de proefpersoon deze bandits koos. In de data file koos hij het vaakst voor bandit 1, daarna iets minder vaak 4, en daarna slechts een keer 2 en 3. Hoe vaker je een bandit kiest, hoe nauwkeuriger de geschatte Q-value van deze bandit wordt vergeleken met de werkelijke beloning."
   ]
  },
  {
   "cell_type": "code",
   "execution_count": 12,
   "metadata": {},
   "outputs": [
    {
     "name": "stdout",
     "output_type": "stream",
     "text": [
      "Optimal params: [ 0.57894799  0.25470958 24.07209159]\n",
      "Q values van proefpersoon: [49.4999514  25.76719829 22.29351033 78.62223898]\n"
     ]
    }
   ],
   "source": [
    "optimal_params = res_2.x\n",
    "print(\"Optimal params:\", optimal_params)\n",
    "with open(\"L4_data_1.txt\") as f:\n",
    "    data = np.loadtxt(f, dtype=int, delimiter=\"\\t\", skiprows=1)\n",
    "    \n",
    "def q_learn_fitted_model(params):\n",
    "    alpha, theta, init_value = params\n",
    "    nArms = 4\n",
    "    Q = np.array([init_value]*nArms)\n",
    "    LL = 0\n",
    "    \n",
    "    for row in data:\n",
    "        sum_denominator = sum([np.exp(q * theta) for q in Q])\n",
    "        p_q1 = np.exp(Q[0] * theta) / sum_denominator\n",
    "        p_q2 = np.exp(Q[1] * theta) / sum_denominator\n",
    "        p_q3 = np.exp(Q[2] * theta) / sum_denominator\n",
    "        p_q4 = np.exp(Q[3] * theta) / sum_denominator\n",
    "        probs = [p_q1, p_q2, p_q3, p_q4]\n",
    "        \n",
    "        # subtract 1 since we are working with indices\n",
    "        choice = row[1] - 1\n",
    "        outcome = row[2]\n",
    "                \n",
    "        Q[choice] = Q[choice] + alpha * (outcome - Q[choice])\n",
    "        \n",
    "    return Q\n",
    "q_values = q_learn_fitted_model(optimal_params)\n",
    "print(\"Q values van proefpersoon:\", q_values)"
   ]
  }
 ],
 "metadata": {
  "kernelspec": {
   "display_name": "Python 3",
   "language": "python",
   "name": "python3"
  },
  "language_info": {
   "codemirror_mode": {
    "name": "ipython",
    "version": 3
   },
   "file_extension": ".py",
   "mimetype": "text/x-python",
   "name": "python",
   "nbconvert_exporter": "python",
   "pygments_lexer": "ipython3",
   "version": "3.6.5"
  }
 },
 "nbformat": 4,
 "nbformat_minor": 2
}
