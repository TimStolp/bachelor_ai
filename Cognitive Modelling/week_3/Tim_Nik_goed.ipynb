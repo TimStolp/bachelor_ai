{
 "cells": [
  {
   "cell_type": "code",
   "execution_count": 18,
   "metadata": {},
   "outputs": [],
   "source": [
    "from scipy import stats\n",
    "import numpy as np\n",
    "import random\n",
    "\n",
    "%matplotlib inline\n",
    "import matplotlib.pyplot as plt"
   ]
  },
  {
   "cell_type": "markdown",
   "metadata": {},
   "source": [
    "# Q-Learning\n",
    "\n",
    "Q-learning algorithmes zijn gebaseerd op de TD-learning modellen die we eerder hebben besproken. Q-learning leert direct de associatie tussen states, actions en outcomes. De robot gaat nu dus niet alleen maar belongingen krijgen maar ook uitzoeken welke handeling de beste is geveven de situatie. \n",
    "\n",
    "Details over Q-learning zijn terug te vinden in de college slides en het hoofdstuk van Gureckis & Love [**computational reinforcement learning**](http://bradlove.org/papers/GureckisLovePress.pdf) en voor meer verdieping in het online boek van [**Sutton & Barto**](http://incompleteideas.net/book/bookdraft2018jan1.pdf) en dan met name hoofdstuk 6.\n",
    "\n",
    "Het leren in deze opdracht speelt zich af in een simpel **Markov Decision Process** met de volgende structuur:\n",
    "\n",
    "![](bandit_arms.png)\n",
    "\n",
    "In deze taak moet de robot telkens uit een van de schatkisten iets pakken. In sommige schatkisten zit meer geld dan in anderen, maar de robot weet in het begin nog niks over de schatkisten, en verwacht er maar weinig van. In elke ronde wordt uitkomst van een schatkist bepaald door een trekking van een waarde uit een normaalverdeling.\n",
    "\n",
    "De uitkomsten van schatkisten verschillen in hun gemiddelde maar niet de variatie (standaard deviatie). \n",
    "\n",
    "**Let op:** In dit simpele experiment is er maar een state, waarin de robot telkens terugkeert na het maken van een keuze. Dit heeft als gevolg dat bij het leren geen rekening gehouden hoeft te worden met de actie in de volgende state gemaakt wordt. De standaard prediction-error:\n",
    "\n",
    "$$\\delta = r_{t+1} + \\gamma\\ max_a\\ Q(s_{t+1} , a) − Q(s_t , a_t)$$\n",
    "\n",
    "verandert dus simpelweg in:\n",
    "$$\\delta = r_{t+1} − Q(s_t , a_t)$$\n",
    "\n",
    "In het begin van het experiment heeft de robot geen enkele kennis van de wereld en geen enkele verwachtingen voor van het krijgen van beloningen. Voor elke schatkist geldt:\n",
    "\n",
    "$$Q(1)=Q(2)=Q(3)=Q(4)=0$$\n",
    "\n"
   ]
  },
  {
   "cell_type": "markdown",
   "metadata": {},
   "source": [
    "### Q1.a (5 punten)\n",
    "\n",
    "Schrijf de Q-learning functie op die de nieuwe waarde Q uitrekent nadat de robot een schatkist heeft uitgekozen. Welke vrije variabele heeft deze functie en wat is zijn rol in leren? \n"
   ]
  },
  {
   "cell_type": "markdown",
   "metadata": {},
   "source": [
    ">$Q(x) = Q(x) + \\alpha*(r_{t+1} - Q(x))$\n",
    "\n",
    ">$\\alpha$ is de vrije variabele, deze vari\\\"eren verandert de snelheid waarmee de agent leert."
   ]
  },
  {
   "cell_type": "markdown",
   "metadata": {},
   "source": [
    "### Q1.b (5 punten)\n",
    "\n",
    "Stel de robot selecteert schatkist 1 en vindt twee munten. Wat is hierna de waarde van Q(1)? rapporteer dit voor\n",
    "$\\alpha=0.5$ en $\\alpha=0.2$"
   ]
  },
  {
   "cell_type": "markdown",
   "metadata": {},
   "source": [
    ">$\\alpha = 0.5: Q(1) = 0 + 0.5*(2 - 0) = 1$\n",
    "\n",
    ">$\\alpha = 0.2: Q(1) = 0 + 0.2*(2 - 0) = 0.4$"
   ]
  },
  {
   "cell_type": "markdown",
   "metadata": {},
   "source": [
    "### Q1.c (10 punten)\n",
    "\n",
    "Schrijf een functie `q_learn` die als input, alpha ($\\alpha$), epsilon($\\epsilon$) en rondes (trials) accepteert. De output van deze functie moet een lijst met $Q$ waarden zijn voor elke schatkist (1 t/m 4) in de wereld van de robot na het leren van een aantal rondes. We gaan er nu van uit dat de robot de $\\epsilon$-greedy keuze regel toepast.\n",
    "\n",
    "* Initieer de verwachtingen van de robot voor de 4 keuzes:\n",
    "    * Q(1)=Q(2)=Q(3)=Q(4)=0. \n",
    "* Intieer total_score = 0\n",
    "* Initieer de beloningen voor de 4 schatkisten:\n",
    "    * K(1): mean=20, SD=4\n",
    "    * K(2): mean=30, SD=4\n",
    "    * K(3): mean=50, SD=4\n",
    "    * K(4): mean=70, SD=4\n",
    "* Creëer een for-loop over alle rondes:\n",
    "    * Elke ronde selecteert de robot een kist op basis van $\\epsilon$-greedy. Denk er aan bij explore een random kist, bij exploit de kist met hoogste Q-value (als er meerdere de hoogste waarde hebben, daar weer random uit kiezen). \n",
    "    * Kijk wat de beloning is na maken van een keuze, en update dan Q-value van die kist. \n",
    "* zorg dat deze functie de volgende lijsten als output heeft: final Q values, total_score, en voor elke schatkist een lijst wanneer deze gekozen werd (1 voor gekozen een 0 wanneer niet gekozen). Dit resulteert in 4 lijsten met keuzes die gebruikt kunnen worden voor het plotten van het gedrag van het model.\n",
    "\n",
    "\n",
    "Laat me behulp van deze functie de robot 200 rondes leren over deze wereld (1 leer episode bestaat dus uit 200 rondes). Hoe zien zijn verwachtingen (Q-values) voor de schatkisten aan het eind van het experiment er uit gegeven\n",
    "\n",
    "1. $\\alpha = 0.1$ en $\\epsilon = 0.1$\n",
    "2. $\\alpha = 0.5$ en $\\epsilon = 0.1$\n",
    "\n",
    "Laat voor beide modellen zien wat de totale verdiende score is gedurende de trails, wat de geleede Q-values zijn voor elke kist en plot hoe de keuzes voor de verschillende kisten veranderen gedurende de trails.\n",
    "\n",
    "Voor het plotten van keuzes is het handig om naar het gemiddels van bins van 10 trails tegelijk te kijken. Alvast wat code om je beetje op weg te helpen:\n",
    "```python\n",
    "# Width is de grote van elke bin\n",
    "width = 10\n",
    "# Hier knippen we de laatste (choicelist_1.size % width) elementen van de lijst\n",
    "# Dan reshapen we naar een matrix van X * width en nemen we de mean over de width axis\n",
    "# Hiermee krijgen we dus het gemiddelde aantal keer dat deze keuze gemaakt is voor width stappen\n",
    "result1 = choicelist_1[:(choicelist_1.size // width * width)].reshape(-1, width).mean(axis=1)\n",
    "plt.plot(result1, label=r\"$1$\")\n",
    "```\n",
    "\n",
    "Welk van de twee geleerde modellen zit dichter bij de waarheid op basis van deze resultaten?\n"
   ]
  },
  {
   "cell_type": "code",
   "execution_count": 52,
   "metadata": {},
   "outputs": [
    {
     "name": "stdout",
     "output_type": "stream",
     "text": [
      "[21.322751906296446, 11.711444788253843, 13.511592758606, 69.86812384293881]\n",
      "[19.749753498869186, 18.13731459495658, 51.93864094101862, 0]\n"
     ]
    }
   ],
   "source": [
    "import random\n",
    "import numpy as np\n",
    "\n",
    "def q_learn(alpha, epsilon, trials):\n",
    "    Q1 = 0\n",
    "    Q2 = 0\n",
    "    Q3 = 0\n",
    "    Q4 = 0\n",
    "    Q1_list = np.zeros(trials)\n",
    "    Q2_list = np.zeros(trials)\n",
    "    Q3_list = np.zeros(trials)\n",
    "    Q4_list = np.zeros(trials)\n",
    "    K1 = 20\n",
    "    K2 = 30\n",
    "    K3 = 50\n",
    "    K4 = 70\n",
    "    sigma = 4\n",
    "    total_score = 0\n",
    "    \n",
    "    for i in range(trials):\n",
    "        x = random.random()\n",
    "        \n",
    "        if x < epsilon:            \n",
    "            ind = random.randrange(len([Q1, Q2, Q3, Q4]))\n",
    "        else:\n",
    "            ind = np.argmax([Q1, Q2, Q3, Q4])\n",
    "         \n",
    "        if ind == 0:\n",
    "            s = np.random.normal(K1, sigma)\n",
    "            Q1 += alpha*(s - Q1)\n",
    "            Q1_list[i] = 1\n",
    "        elif ind == 1:\n",
    "            s = np.random.normal(K2, sigma)\n",
    "            Q2 += alpha*(s - Q2)\n",
    "            Q2_list[i] = 1\n",
    "        elif ind == 2:\n",
    "            s = np.random.normal(K3, sigma)\n",
    "            Q3 += alpha*(s - Q3)\n",
    "            Q3_list[i] = 1\n",
    "        else:\n",
    "            s = np.random.normal(K4, sigma)\n",
    "            Q4 += alpha*(s - Q4)\n",
    "            Q4_list[i] = 1\n",
    "        \n",
    "        total_score += s\n",
    "            \n",
    "    return([Q1,Q2,Q3,Q4], total_score, [Q1_list, Q2_list, Q3_list, Q4_list])\n",
    "\n",
    "\n",
    "[Q_list1, _, _] = q_learn(0.1, 0.1, 200)\n",
    "[Q_list5, _, _] = q_learn(0.5, 0.1, 200)\n",
    "print(Q_list1)\n",
    "print(Q_list5)"
   ]
  },
  {
   "cell_type": "markdown",
   "metadata": {},
   "source": [
    "> Het model met $\\alpha = 0.5$ zit dichterbij de waarheid."
   ]
  },
  {
   "cell_type": "code",
   "execution_count": 20,
   "metadata": {},
   "outputs": [
    {
     "data": {
      "image/png": "[encoded data removed]",
      "text/plain": [
       "<matplotlib.figure.Figure at 0x7f32a06f1ac8>"
      ]
     },
     "metadata": {},
     "output_type": "display_data"
    },
    {
     "data": {
      "image/png": "[encoded data removed]",
      "text/plain": [
       "<matplotlib.figure.Figure at 0x7f3298113da0>"
      ]
     },
     "metadata": {},
     "output_type": "display_data"
    }
   ],
   "source": [
    "learnt_scores, total_score, [choicelist_1, choicelist_2, choicelist_3, choicelist_4] = q_learn(0.1,0.1,200)\n",
    "\n",
    "# Width is de grote van elke bin\n",
    "width = 10\n",
    "# Hier knippen we de laatste (choicelist_1.size % width) elementen van de lijst\n",
    "# Dan reshapen we naar een matrix van X * width en nemen we de mean over de width axis\n",
    "# Hiermee krijgen we dus het gemiddelde aantal keer dat deze keuze gemaakt is voor width stappen\n",
    "result1 = choicelist_1[:(choicelist_1.size // width * width)].reshape(-1, width).mean(axis=1)\n",
    "result2 = choicelist_2[:(choicelist_2.size // width * width)].reshape(-1, width).mean(axis=1)\n",
    "result3 = choicelist_3[:(choicelist_3.size // width * width)].reshape(-1, width).mean(axis=1)\n",
    "result4 = choicelist_4[:(choicelist_4.size // width * width)].reshape(-1, width).mean(axis=1)\n",
    "plt.plot(result1, label=r\"$1$\")\n",
    "plt.plot(result2, label=r\"$1$\")\n",
    "plt.plot(result3, label=r\"$1$\")\n",
    "plt.plot(result4, label=r\"$1$\")\n",
    "plt.show()\n",
    "\n",
    "learnt_scores, total_score, [choicelist_1, choicelist_2, choicelist_3, choicelist_4] = q_learn(0.5,0.1,200)\n",
    "\n",
    "result1 = choicelist_1[:(choicelist_1.size // width * width)].reshape(-1, width).mean(axis=1)\n",
    "result2 = choicelist_2[:(choicelist_2.size // width * width)].reshape(-1, width).mean(axis=1)\n",
    "result3 = choicelist_3[:(choicelist_3.size // width * width)].reshape(-1, width).mean(axis=1)\n",
    "result4 = choicelist_4[:(choicelist_4.size // width * width)].reshape(-1, width).mean(axis=1)\n",
    "plt.plot(result1, label=r\"$1$\")\n",
    "plt.plot(result2, label=r\"$1$\")\n",
    "plt.plot(result3, label=r\"$1$\")\n",
    "plt.plot(result4, label=r\"$1$\")\n",
    "plt.show()"
   ]
  },
  {
   "cell_type": "markdown",
   "metadata": {},
   "source": [
    "### Q1.d (10 punten)\n",
    "\n",
    "Laten we nu kijken hoe succesvol de verschillende strategieën (lees combinatie van parameter waardes) zijn. \n",
    "\n",
    "Schrijf nu een loop die `q_learn` 500 keer aanroept met een bepaalde parameter setting (en altijd 200 leerrondes) en sla telkens het totaal aantal punten op, zodat je aan het eind een lijst hebt van 500 totaal scores. \n",
    "\n",
    "Vergelijk het gemiddelde van die 500 totaalscores voor $\\alpha=0.1$, $\\alpha=0.3$ en $\\alpha=0.5$ met $\\epsilon=0.1$ voor alle experimenten. Leg uit hoe de verschillen tot stand komen. \n"
   ]
  },
  {
   "cell_type": "code",
   "execution_count": 34,
   "metadata": {},
   "outputs": [
    {
     "name": "stdout",
     "output_type": "stream",
     "text": [
      "alpha 0.1 mean total score = 8432.818469466743\n",
      "alpha 0.3 mean total score = 11451.773833014775\n",
      "alpha 0.5 mean total score = 11924.135016932356\n"
     ]
    }
   ],
   "source": [
    "score_list1 = []\n",
    "score_list3 = []\n",
    "score_list5 = []\n",
    "ep = 500\n",
    "\n",
    "for i in range(ep):\n",
    "    [_, total_score1, _] = q_learn(0.1, 0.1, 200)\n",
    "    score_list1.append(total_score1)\n",
    "    \n",
    "    [_, total_score3, _] = q_learn(0.3, 0.1, 200)\n",
    "    score_list3.append(total_score3)\n",
    "    \n",
    "    [_, total_score5, _] = q_learn(0.5, 0.1, 200)\n",
    "    score_list5.append(total_score5)\n",
    "    \n",
    "print(f\"alpha 0.1 mean total score = {np.mean(score_list1)}\")\n",
    "print(f\"alpha 0.3 mean total score = {np.mean(score_list3)}\")\n",
    "print(f\"alpha 0.5 mean total score = {np.mean(score_list5)}\")"
   ]
  },
  {
   "cell_type": "markdown",
   "metadata": {},
   "source": [
    "> Een hogere $\\alpha$-waarde zorgt ervoor dat de agent uit het model sneller leert van de uitkomsten van de kisten. Dit verkleint de kans dat de agent een hogere value krijgt voor bijvoorbeeld Q1 dan voor Q2, als het door de willekeurigheid van de waarde uit de normaalverdeling een bepaalde mening vormt over deze kisten."
   ]
  },
  {
   "cell_type": "markdown",
   "metadata": {},
   "source": [
    "# Exploration-Exploitation\n",
    "\n",
    "We gaan nu dieper in op het exploration vs. exploitation dilemma. Laten we eerst kijken hoe verschillende e parameters uitwerking hebben op het aantal punten dat gewonnen wordt. Gebruik hier de functie van q_learn van de vorige vraag met $\\epsilon=0.05$, $\\epsilon=0.2$ en $\\epsilon=0.6$ en met $\\alpha=0.3$ voor alle experimenten. \n",
    "\n",
    "### Q2.a (10 punten)\n",
    "\n",
    "Kijk voor elke parameter setting weer naar de gemiddelde totaal score van 500 leer episodes. Waar ligt ongeveer het optimale niveau van exploratie?"
   ]
  },
  {
   "cell_type": "code",
   "execution_count": 33,
   "metadata": {},
   "outputs": [
    {
     "name": "stdout",
     "output_type": "stream",
     "text": [
      "Epsilon 0.05 mean total score = 10407.42850187573\n",
      "Epsilon 0.2 mean total score = 11938.451203146231\n",
      "Epsilon 0.6 mean total score = 10515.17902026963\n"
     ]
    }
   ],
   "source": [
    "e_list = [0.05, 0.2, 0.6]\n",
    "alpha = 0.3\n",
    "trials = 200\n",
    "ep = 500\n",
    "\n",
    "for epsilon in e_list:\n",
    "    score_list = []\n",
    "    for i in range(ep):\n",
    "        [_, total_score, _] = q_learn(alpha, epsilon, trials)\n",
    "        score_list.append(total_score)\n",
    "    print(f\"Epsilon {epsilon} mean total score = {np.mean(score_list)}\")\n",
    "    \n"
   ]
  },
  {
   "cell_type": "markdown",
   "metadata": {},
   "source": [
    "> Met een $\\epsilon$-waarde van 0.2 wordt de hoogste totaalscore behaald."
   ]
  },
  {
   "cell_type": "markdown",
   "metadata": {},
   "source": [
    "### Q2.b (10 punten)\n",
    "\n",
    "Pas nu `q_learn` zo aan dat de parameter $\\epsilon$ gedurende een leer episode steeds kleiner wordt. Dit kan bijvoorbeeld door elke ronde $\\epsilon$ met een vast percentage te verkleinen (denk aan iets tussen 0 en 10%), maar andere manieren zijn ook mogelijk. Sla dit model op als `q_learn_decay`."
   ]
  },
  {
   "cell_type": "code",
   "execution_count": 43,
   "metadata": {},
   "outputs": [],
   "source": [
    "def q_learn_decay(alpha, epsilon, trials=200):\n",
    "    Q1 = 0\n",
    "    Q2 = 0\n",
    "    Q3 = 0\n",
    "    Q4 = 0\n",
    "    Q1_list = np.zeros(trials)\n",
    "    Q2_list = np.zeros(trials)\n",
    "    Q3_list = np.zeros(trials)\n",
    "    Q4_list = np.zeros(trials)\n",
    "    K1 = 20\n",
    "    K2 = 30\n",
    "    K3 = 50\n",
    "    K4 = 70\n",
    "    sigma = 4\n",
    "    total_score = 0\n",
    "    decay = 0.01\n",
    "    \n",
    "    for i in range(trials):\n",
    "        x = random.random()\n",
    "        \n",
    "        if x < epsilon:            \n",
    "            ind = random.randrange(len([Q1, Q2, Q3, Q4]))\n",
    "        else:\n",
    "            ind = np.argmax([Q1, Q2, Q3, Q4])\n",
    "         \n",
    "        if ind == 0:\n",
    "            s = np.random.normal(K1, sigma)\n",
    "            Q1 += alpha*(s - Q1)\n",
    "            Q1_list[i] = 1\n",
    "        elif ind == 1:\n",
    "            s = np.random.normal(K2, sigma)\n",
    "            Q2 += alpha*(s - Q2)\n",
    "            Q2_list[i] = 1\n",
    "        elif ind == 2:\n",
    "            s = np.random.normal(K3, sigma)\n",
    "            Q3 += alpha*(s - Q3)\n",
    "            Q3_list[i] = 1\n",
    "        else:\n",
    "            s = np.random.normal(K4, sigma)\n",
    "            Q4 += alpha*(s - Q4)\n",
    "            Q4_list[i] = 1\n",
    "        \n",
    "        total_score += s\n",
    "        epsilon *= (1 - decay)\n",
    "            \n",
    "    return([Q1,Q2,Q3,Q4], total_score, [Q1_list, Q2_list, Q3_list, Q4_list])"
   ]
  },
  {
   "cell_type": "markdown",
   "metadata": {},
   "source": [
    "### Q2.c (10 punten)\n",
    "\n",
    "Kijk nu naar een aantal beginwaarden voor parameter $\\epsilon$, en kijk welk model meer punten kan verdienen in de taak (verken hier waarden van $\\epsilon$ tussen .1 en .9). Gebruik weer het gemiddelde aantal punten over 500 leer episodes (en nog steeds 200 rondes per episode en $\\alpha =  0.3$). Welk model is het beste en waarom denk je dat dit zo is?\n"
   ]
  },
  {
   "cell_type": "code",
   "execution_count": 50,
   "metadata": {},
   "outputs": [
    {
     "name": "stdout",
     "output_type": "stream",
     "text": [
      "Epsilon 0.1 mean total score = 11000.569963160984\n",
      "Epsilon 0.2 mean total score = 11955.12898428746\n",
      "Epsilon 0.3 mean total score = 12400.600458790455\n",
      "Epsilon 0.4 mean total score = 12448.555341380075\n",
      "Epsilon 0.5 mean total score = 12474.847579536545\n",
      "Epsilon 0.6 mean total score = 12343.932251486332\n",
      "Epsilon 0.7 mean total score = 12181.812052098696\n",
      "Epsilon 0.8 mean total score = 11989.131471481818\n",
      "Epsilon 0.9 mean total score = 11820.744119546875\n"
     ]
    }
   ],
   "source": [
    "ep_list = list(range(1,10))\n",
    "epList = [x / 10 for x in ep_list]\n",
    "alpha = 0.3\n",
    "trials = 200\n",
    "ep = 500\n",
    "\n",
    "for epsilon in epList:\n",
    "    score_list = []\n",
    "    for i in range(ep):\n",
    "        [_, total_score, _] = q_learn_decay(alpha, epsilon, trials)\n",
    "        score_list.append(total_score)\n",
    "    print(f\"Epsilon {epsilon} mean total score = {np.mean(score_list)}\")"
   ]
  },
  {
   "cell_type": "markdown",
   "metadata": {},
   "source": [
    "> De hoogste totaalscores liggen zowel bij $\\epsilon$-startwaardes van 0.4 als 0.5. Een $\\epsilon$-startwaarde van rond de 0.5 zorgt ervoor dat het model genoeg exploreert aan het begin, ten opzichte van lagere waardes als 0.1, terwijl het later ook zijn Q-waardes genoeg verifi\\\"eert, door Qmax te bekijken."
   ]
  },
  {
   "cell_type": "markdown",
   "metadata": {},
   "source": [
    "## Softmax\n",
    "\n",
    "Een andere zeer populaire methode om exploratie te implementeren is de softmax regel. Deze kan gebruikt worden om de waarschijnlijkheid uit te rekenen dat de robot een specifieke kist kiest. Bijvoorbeeld de waarschijnlijkheid dat de robot op een bepaald moment kist 1 kiest is:\n",
    "\n",
    "$$P(Q(1)) = \\frac{e(Q(1)*theta)}{\\sum_s e(Q(s)*theta)}$$\n",
    "\n",
    "Voor kist 2:\n",
    "\n",
    "$$P(Q(2)) = \\frac{e(Q(2)*theta)}{\\sum_s e(Q(s)*theta)}$$\n",
    "\n",
    "En natuurlijk:\n",
    "\n",
    "$$P(Q(1))+ P(Q(2)) +P(Q(3))+ P(Q(2)) = 1  (100\\%)$$\n",
    "\n",
    "want de robot kiest altijd een van de 4 opties, dus samen moeten dat 100% kans zijn.\n",
    "\n",
    "Implementeer nu de softmax regel in de `q_learn` functie en geef deze de naam `q_learn_softmax`.\n",
    "\n",
    "* Gebruik elke ronde de $P(Q)$ informatie om de robot een kist te laten kiezen.\n",
    "* Zorg ook dat deze elke ronde de waarschijnlijkheid $P(Q)$ van het kiezen van elke kist wordt opgeslagen zodat we hier later weer naar kunnen kijken. \n",
    "\n",
    "Gebruik dit model weer om de gemiddelde score voor 500 episodes voor verschillende waardes van theta (waardes tussen $0.01$ en $1$, op zn minst 5) met elkaar te vergelijken, met wederom 200 rondes per episode en een $\\alpha$ van $0.3$, gebruik makende van de methode die we hier boven ontwikkeld hebben. \n",
    "\n",
    "\n",
    "### Q3.a (10 punten)\n",
    "\n",
    "Wat is ongeveer de optimale waarde voor theta, hoe verhoud dit model zich tot de simpele versie van $\\epsilon$-greedy? Hoe gedraagt het model zicht met een hoge waarde van theta, en hoe met een lage?"
   ]
  },
  {
   "cell_type": "code",
   "execution_count": 49,
   "metadata": {},
   "outputs": [
    {
     "name": "stdout",
     "output_type": "stream",
     "text": [
      "Theta 0.01 total score = 9208.89945515291\n",
      "Theta 0.12 total score = 12334.787996571426\n",
      "Theta 0.23 total score = 10828.326878731326\n",
      "Theta 0.34 total score = 9868.118563592338\n",
      "Theta 0.45 total score = 8908.408397573761\n",
      "Theta 0.56 total score = 8754.150527943548\n",
      "Theta 0.67 total score = 8521.558884913651\n",
      "Theta 0.78 total score = 8568.116495783564\n",
      "Theta 0.89 total score = 8667.525343782176\n",
      "Theta 1.0 total score = 8533.719069889843\n"
     ]
    }
   ],
   "source": [
    "def softmax(q_list, theta):\n",
    "    q_list = np.array(q_list)\n",
    "    p_list = []\n",
    "    for i in range(len(q_list)):\n",
    "        p_list.append(np.exp(q_list[i]*theta)/sum(np.exp(q_list*theta)))\n",
    "    return p_list\n",
    "    \n",
    "\n",
    "def q_learn_softmax(alpha, trials, theta):\n",
    "    Q1 = 0\n",
    "    Q2 = 0\n",
    "    Q3 = 0\n",
    "    Q4 = 0\n",
    "    Q1_list = np.zeros(trials)\n",
    "    Q2_list = np.zeros(trials)\n",
    "    Q3_list = np.zeros(trials)\n",
    "    Q4_list = np.zeros(trials)\n",
    "    K1 = 20\n",
    "    K2 = 30\n",
    "    K3 = 50\n",
    "    K4 = 70\n",
    "    sigma = 4\n",
    "    total_score = 0\n",
    "    \n",
    "    for i in range(trials):\n",
    "        \n",
    "        ind = np.random.choice(4, p=softmax([Q1, Q2, Q3, Q4], theta))\n",
    "         \n",
    "        if ind == 0:\n",
    "            s = np.random.normal(K1, sigma)\n",
    "            Q1 += alpha*(s - Q1)\n",
    "            Q1_list[i] = 1\n",
    "        elif ind == 1:\n",
    "            s = np.random.normal(K2, sigma)\n",
    "            Q2 += alpha*(s - Q2)\n",
    "            Q2_list[i] = 1\n",
    "        elif ind == 2:\n",
    "            s = np.random.normal(K3, sigma)\n",
    "            Q3 += alpha*(s - Q3)\n",
    "            Q3_list[i] = 1\n",
    "        else:\n",
    "            s = np.random.normal(K4, sigma)\n",
    "            Q4 += alpha*(s - Q4)\n",
    "            Q4_list[i] = 1\n",
    "        \n",
    "        total_score += s\n",
    "            \n",
    "    return([Q1,Q2,Q3,Q4], total_score, [Q1_list, Q2_list, Q3_list, Q4_list])\n",
    "\n",
    "t_list = np.linspace(0.01, 1, 10)\n",
    "alpha = 0.3\n",
    "trials = 200\n",
    "ep = 500\n",
    "\n",
    "for theta in t_list:\n",
    "    score_list = []\n",
    "    for i in range(ep):\n",
    "        [_, total_score, _] = q_learn_softmax(alpha, trials, theta)\n",
    "        score_list.append(total_score)\n",
    "    print(f\"Theta {theta} total score = {np.mean(score_list)}\")"
   ]
  },
  {
   "cell_type": "markdown",
   "metadata": {},
   "source": [
    "> Het model vertoont dezelfde kenmerken als het $\\epsilon$-greedy model. De hoogste waarde van total_score komt vroeg, namelijk rond een $\\theta$-waarde van 0.12, waar het maximum van $\\epsilon$-greedy lag rond een waarde van 0.2. De totaalscore wordt lager naarmate de $\\theta$-waarde voorbij 0.12 komt en neemt vanaf dit punt tot $\\epsilon$ = 0.5 geleidelijk af, waarna de waarde ongeveer hetzelfde blijft."
   ]
  },
  {
   "cell_type": "markdown",
   "metadata": {},
   "source": [
    "## Model fitting\n",
    "\n",
    "We gaan nu kijken naar de resultaten van een echt experiment. We hebben de data van een proefpersoon die het bovenstaande experiment heeft gespeeld. In de data file kunnen we terugvinden welke van de 4 opties zij gekozen had en hoeveel punten vervolgens elke trial verdient zijn. We gaan kijken met welke parameter waardes  Q-learning met een softmax choice rule het gedrag van de proefpersonen het beste kan voorspellen. De proefpersoon heeft 80 rondes gespeelt. \n",
    "\n",
    "Lees de data in uit *L4_data_1.txt* met behulp van [loadtxt](https://docs.scipy.org/doc/numpy/reference/generated/numpy.loadtxt.html):\n",
    "```python\n",
    "with open(\"L4_data_1.txt\") as f:\n",
    "    data = np.loadtxt(f, dtype=int, delimiter=\"\\t\", skiprows=1)\n",
    "```\n",
    "\n",
    "Pas de `q_learn_softmax` functie aan zodat je deze op de data van de proefpersonen kan fitten. (Zie LC1 voor details over hoe functies gefit moeten worden, en pseudo code onderaan voor meer hulp).\n",
    "\n",
    "Ga er van uit dat de proefpersonen enige ervaring hebben met dit type experiment en verwachten dat ze gemiddeld wel 40 punten per ronde gaan verdienen (alle Q’s starten op 40 ipv 0). \n",
    "\n",
    "We gaan voor het fitten van het model gebruik maken van minimize van scipy.optimize (`from scipy.optimize import minimize`) en we gaan proberen *Log Likelihood* te optimaliseren (mate van fit). \n",
    "\n",
    "Wat we op elke trial willen weten is wat de waarschijnlijkheid is dat het model dezelfde keuze maakte als de proefpersoon. Hoe groter de kans (likelihood) dat het model correct kiest, hoe beter het model \"fit\". \n",
    "\n",
    "In het databestand van de proefpersoon kunnen zien welke van de 4 kisten de proefpersoon koos. Dit kunnen we dan op elke ronde vergelijken met de corresponderende P(Q). In de eerste ronde zijn alle Q values nog gelijk dus zijn alle P(Q)s = .25.\n",
    "\n",
    "Voor de eerste ronde geld daarom automatisch dan waarschijnlijkheid (likelihood) van de keuze van de proefpersoon ook .25 is, maar dat gaat veranderen naarmate er geleerd wordt. \n",
    "\n",
    "In het databestand staat ook voor elke ronde wat de uitkomst van een keuze was, deze moet gebruikt worden om vervolgens de Q-values aan te passen, net als we eerder gedaan hebben in de simulaties.\n",
    "\n",
    "De output van deze functie moet de som van alle *log(P(Q(chosen)))* zijn. Let op vermenigvuldig deze som met -1. Dat doen we omdat minimize de functie probeert te minimaliseren , en we opzoek zijn naar de max LL (double negative). \n",
    "\n",
    "`**pseudo code**:`\n",
    "```python\n",
    "def q_learn_softmax_fit(params):\n",
    "    alpha, theta, init_value = params\n",
    "    nArms = 4\n",
    "    Q = np.array([init_value]*nArms)\n",
    "    LL = 0\n",
    "    \n",
    "    for row in data:\n",
    "        probs <- calculate probability of chosing each option based on theta, Qvalues and softmax\n",
    "        \n",
    "        choice <- read choice from data (each trial is one row in file)\n",
    "        outcome <- read outcomee of choice from data\n",
    "        \n",
    "        LL += np.log(probs[choice])\n",
    "        \n",
    "        Q[choice] <- update Q value\n",
    "    \n",
    "    # Scaled for minimize function\n",
    "    return -1*LL\n",
    "\n",
    "# minimize takes a few arguments (function, array of initial parameter values, minimization methods,\n",
    "# bounds are the bounds on each parameter; use bounds (same, same) to fix parameter to a single value\n",
    "res = minimize(q_learn_softmax_fit, np.array([0.5, 0.5, 40]), method='SLSQP',\n",
    "               bounds=[(0,1), (0,10), (40,40)], options={'disp':True, 'ftol':1e-16})\n",
    "```\n",
    "\n",
    "### Q4.a (10 punten)\n",
    "\n",
    "Welke parameterwaarden fitten de data van de proefpersoon het beste? Probeer eens een hogere start waarde voor Q values (>80) en hoe beïnvloed dit de model fit? \n",
    "minimize geeft ook de uiteindelijke summed LL (negatief) van het best fittende model. Deze score kan je weer omrekenen naar een gemiddelde likelihood (kans dat model juiste trial koos) per trial. Doe dit, een beoordeel de uitkomst."
   ]
  },
  {
   "cell_type": "code",
   "execution_count": 55,
   "metadata": {},
   "outputs": [
    {
     "name": "stdout",
     "output_type": "stream",
     "text": [
      "startwaarde Q = 40\n",
      "Optimization terminated successfully.    (Exit mode 0)\n",
      "            Current function value: 56.081857619579395\n",
      "            Iterations: 12\n",
      "            Function evaluations: 80\n",
      "            Gradient evaluations: 12\n",
      "de parameters [ 0.48925202  0.23180105 40.        ] fitten de persoon het best\n",
      "de gemiddelde likelihood = 0.49607744752404526\n",
      "\n",
      "\n",
      "startwaarde Q = 100\n",
      "Positive directional derivative for linesearch    (Exit mode 8)\n",
      "            Current function value: 110.90354888959129\n",
      "            Iterations: 7\n",
      "            Function evaluations: 15\n",
      "            Gradient evaluations: 3\n",
      "de parameters [  0.99999892   0.         100.        ] fitten de persoon het best\n",
      "de gemiddelde likelihood = 0.24999999999999983\n",
      "\n",
      "\n"
     ]
    }
   ],
   "source": [
    "from scipy.optimize import minimize\n",
    "\n",
    "def q_learn_softmax_fit(params):\n",
    "    alpha, theta, init_value = params\n",
    "    \n",
    "    with open(\"L4_data_1.txt\") as f:\n",
    "        data = np.loadtxt(f, dtype=int, delimiter=\"\\t\", skiprows=1)\n",
    "    \n",
    "    nArms = 4\n",
    "    Q = np.array([init_value]*nArms)\n",
    "    LL = 0\n",
    "\n",
    "    for row in data:\n",
    "        probs = softmax(Q, theta)\n",
    "\n",
    "        choice = row[1] - 1\n",
    "        outcome = row[2]\n",
    "\n",
    "        LL += np.log(probs[choice])\n",
    "\n",
    "        Q[choice] += alpha*(outcome - Q[choice])\n",
    "\n",
    "    # Scaled for minimize function\n",
    "    return -1*LL\n",
    "\n",
    "with open(\"L4_data_1.txt\") as f:\n",
    "    data = np.loadtxt(f, dtype=int, delimiter=\"\\t\", skiprows=1)\n",
    "    \n",
    "print(\"startwaarde Q = 40\")\n",
    "res = minimize(q_learn_softmax_fit, np.array([0.5, 0.5, 40]), method='SLSQP',\n",
    "               bounds=[(0,1), (0,10), (40,40)], options={'disp':True, 'ftol':1e-16})\n",
    "\n",
    "print(f\"de parameters {res.x} fitten de persoon het best\")\n",
    "print(f\"de gemiddelde likelihood = {np.exp(-1*res.fun/len(data))}\\n\\n\")\n",
    "\n",
    "print(\"startwaarde Q = 100\")\n",
    "res = minimize(q_learn_softmax_fit, np.array([0.5, 0.5, 100]), method='SLSQP',\n",
    "               bounds=[(0,1), (0,10), (100,100)], options={'disp':True, 'ftol':1e-16})\n",
    "\n",
    "print(f\"de parameters {res.x} fitten de persoon het best\")\n",
    "print(f\"de gemiddelde likelihood = {np.exp(-1*res.fun/len(data))}\\n\\n\")"
   ]
  },
  {
   "cell_type": "markdown",
   "metadata": {},
   "source": [
    "> Het best fittende model van een Q-startwaarde van 40 ligt bij een $\\alpha$-waarde van rond de 0.5, en een $\\theta$-waarde van 0.23. Als de Q-startwaarde verhoogd wordt naar 100, nadert de optimale $\\alpha$-waarde de 1, en de $\\theta$ de 0."
   ]
  },
  {
   "cell_type": "markdown",
   "metadata": {},
   "source": [
    "### Q4.b (10 punten)\n",
    "\n",
    "Herschrijf de functie nogmaals en zorg ervoor dat de initialisatie van de Q waarde (de start Q waarden) ook een vrije parameter wordt. Als je dit doet kan je de start waarde vinden die het best bij het gedrag van de proefpersoon past. Rapporteer, en interpreteer deze waarde. En zorgt dit ook voor een betere model fit?"
   ]
  },
  {
   "cell_type": "code",
   "execution_count": 56,
   "metadata": {},
   "outputs": [
    {
     "name": "stdout",
     "output_type": "stream",
     "text": [
      "Optimization terminated successfully.    (Exit mode 0)\n",
      "            Current function value: 26.010035104746027\n",
      "            Iterations: 19\n",
      "            Function evaluations: 113\n",
      "            Gradient evaluations: 19\n"
     ]
    },
    {
     "data": {
      "text/plain": [
       "array([ 0.57894821,  0.25470942, 24.07207659])"
      ]
     },
     "execution_count": 56,
     "metadata": {},
     "output_type": "execute_result"
    }
   ],
   "source": [
    "res = minimize(q_learn_softmax_fit, np.array([0.5, 0.5, 40]), method='SLSQP',\n",
    "               bounds=[(0,1), (0,10), (0,10000)], options={'disp':True, 'ftol':1e-16})\n",
    "\n",
    "res.x"
   ]
  },
  {
   "cell_type": "markdown",
   "metadata": {},
   "source": [
    "> Het variable maken van de Q startwaarden zorgt voor een uiteindelijke startwaarde van 24.07 wat lijkt op de 25% kans dat een kist wordt gekozen in het begin. Het heeft ook gezorgd voor een veel hogere gemiddelde likelihood. Het heeft er dus voor gezorgd dat de fit beter is geworden"
   ]
  },
  {
   "cell_type": "markdown",
   "metadata": {},
   "source": [
    "### Q4.c (10 punten)\n",
    "\n",
    "Als we de functie een klein beetje herschrijven kunnen we deze gebruiken om in het hoofd van de proefpersoon te kijken. Bijvoorbeeld we willen nu weten welke Q-values zij aan de verschillende bandits toekent. \n",
    "\n",
    "Hiervoor is alleen een kleine verandering nodig, waarbij de functie nu niet meer de LogLikelihood als output heeft maar de lijst met Q values. Pas de functie `q_learn_softmax_fit` aan zodat deze de Q-values returnt en noem de nieuwe functie `q_learn_fitted_model`. Zorg hierbij dat de `params` lijst van argumenten ook hetzelfde blijft als bij de `q_learn_softmax_fit`.\n",
    "\n",
    "Nu hoef je ook niet meer de functie fitten of minimalizeren maar alleen aan te roepen, gebruik makende van de beste gevonden `params` van de vorige stap.\n",
    "\n",
    "`q_learn_fitted_model(res.x)`\n",
    "\n",
    "Rapporteer de Q values van deze proefpersoon. In werkelijkheid waren de gemiddelde waardes van den bandits (50, 30, 20, 80). Hoe wijkt de proefpersoon hier van af en hoe is dat te verklaren (hint: kijk naar keuze gedrag, dus de selectie van bandits, in de data file)?\n"
   ]
  },
  {
   "cell_type": "code",
   "execution_count": null,
   "metadata": {},
   "outputs": [],
   "source": [
    "def q_learn_fitted_model(params):\n",
    "    alpha, theta, init_value = params\n",
    "    \n",
    "    with open(\"L4_data_1.txt\") as f:\n",
    "        data = np.loadtxt(f, dtype=int, delimiter=\"\\t\", skiprows=1)\n",
    "    \n",
    "    nArms = 4\n",
    "    Q = np.array([init_value]*nArms)\n",
    "\n",
    "    for row in data:\n",
    "        probs = softmax(Q, theta)\n",
    "\n",
    "        choice = row[1] - 1\n",
    "        outcome = row[2]\n",
    "\n",
    "\n",
    "        Q[choice] += alpha*(outcome - Q[choice])\n",
    "\n",
    "    # Scaled for minimize function\n",
    "    return Q\n",
    "\n",
    "q_learn_fitted_model(res.x)"
   ]
  },
  {
   "cell_type": "markdown",
   "metadata": {},
   "source": [
    "> De waardes van bandits 1 en 4 lijken sterk op de echte waardes terwijl bandits 2 en 3 meer afwijken. Dit komt doordat de proefpersoon heel weinig bandits 2 en 3 kiest en wel vaak bandits 1 en 4 waardoor de Q waarde van 1 en 4 wel wordt geupdate."
   ]
  }
 ],
 "metadata": {
  "kernelspec": {
   "display_name": "Python 3",
   "language": "python",
   "name": "python3"
  },
  "language_info": {
   "codemirror_mode": {
    "name": "ipython",
    "version": 3
   },
   "file_extension": ".py",
   "mimetype": "text/x-python",
   "name": "python",
   "nbconvert_exporter": "python",
   "pygments_lexer": "ipython3",
   "version": "3.6.4"
  }
 },
 "nbformat": 4,
 "nbformat_minor": 2
}
