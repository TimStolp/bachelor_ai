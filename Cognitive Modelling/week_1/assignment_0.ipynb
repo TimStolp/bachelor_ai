{
 "cells": [
  {
   "cell_type": "markdown",
   "metadata": {},
   "source": [
    "### List of useful links\n",
    "\n",
    "* [Pyplot tutorial](https://matplotlib.org/users/pyplot_tutorial.html)\n",
    "\n",
    "    * [Axis labels](https://matplotlib.org/api/_as_gen/matplotlib.pyplot.ylabel.html)\n",
    "\n",
    "    * [Adding a legend](https://matplotlib.org/api/_as_gen/matplotlib.pyplot.legend.html)\n",
    "\n",
    "* [Markdown Cheatsheet](https://github.com/adam-p/markdown-here/wiki/Markdown-Cheatsheet)\n",
    "* [$\\LaTeX$ symbols](https://oeis.org/wiki/List_of_LaTeX_mathematical_symbols)\n",
    "\n",
    "*All your assignments should be **Python 3** notebooks*\n"
   ]
  },
  {
   "cell_type": "markdown",
   "metadata": {},
   "source": [
    "# Fitting functions\n",
    "\n",
    "For this introductory assignment, we'll be fitting some functions to data. Most of the concepts here should be familiar from the *Leren* course, except that we'll be using the *SciPy* library to fit the functions. The *SciPy* library will come in handy in later assignments, so it'll be useful to already introduce some elements here.\n",
    "\n",
    "*Note:* There are still **10 points** that can be earned with this introductory assignment, so don't forget to hand it in together with the main assignment: *assignment_1.ipynb*.\n",
    "\n",
    "## Q1: Generating simulation data (2 points)\n",
    "\n",
    "Assume there is some model that is defined by the following function:\n",
    "\n",
    "$$y = e^{\\frac{3 x}{20}}$$\n",
    "\n",
    "* Write a function `curve` which implements this model\n",
    "* Generate a uniformly spaced set of 50 samples over the interval `[1, 10]` using [linspace](https://docs.scipy.org/doc/numpy/reference/generated/numpy.linspace.html)\n",
    "* Apply the curve function to the entire *ndarray* of samples using [vectorize](https://docs.scipy.org/doc/numpy/reference/generated/numpy.vectorize.html)\n",
    "* Create an *ndarray* of noise from a Gaussian distribution with $\\mu = 0.0$ and $\\sigma = 1.0$ using [random.normal](https://docs.scipy.org/doc/numpy/reference/generated/numpy.random.normal.html)\n",
    "* Add the noise to the curve results to create the artificial simulation data\n",
    "* Plot the actual underlying curve as a line and the simulated data as dots, both in the same plot"
   ]
  },
  {
   "cell_type": "code",
   "execution_count": 81,
   "metadata": {},
   "outputs": [
    {
     "data": {
      "image/png": "[encoded data removed]",
      "text/plain": [
       "<matplotlib.figure.Figure at 0x7f55be7bf898>"
      ]
     },
     "metadata": {},
     "output_type": "display_data"
    }
   ],
   "source": [
    "import math\n",
    "import numpy as np\n",
    "import matplotlib.pyplot as plt\n",
    "\n",
    "def curve(x):\n",
    "    return np.exp(3*x/20)\n",
    "\n",
    "samples = np.linspace(1, 10, 50)\n",
    "curveFunc = np.vectorize(curve)\n",
    "curve_array = curve(samples)\n",
    "noise = np.random.normal(0, 1, len(curve_array))\n",
    "simulated_data = curve_array + noise\n",
    "\n",
    "plt.plot(samples, simulated_data, 'ro')\n",
    "plt.plot(samples, curve_array)\n",
    "plt.show()"
   ]
  },
  {
   "cell_type": "markdown",
   "metadata": {},
   "source": [
    "## Q2: Fitting a linear model (3 points)\n",
    "\n",
    "Now we'll use *SciPy* to fit a line through this simulation data. In *Leren* we needed to compute the partial derivative of the error function with respect to each of the model parameters to know how to modify those parameters to get the derivates (close to) zero. Here we will just define what the error function is, and let *SciPy* do the actual minimization work.\n",
    "\n",
    "The first model will be a very basic linear one, with only 1 parameter `a`:\n",
    "\n",
    "$$y = ax$$\n",
    "\n",
    "*(note: this line will always pass through the origin)*\n",
    "\n",
    "* Write a function `linear` which implements this model\n",
    "* Write a function `MSE` which computes the *Mean Squared Error* of an array of model estimates `y_hat` and an array of observed data `y`\n",
    "\n",
    "Already provided is a general function called `MSE_fit_func` which takes 4 arguments:\n",
    "\n",
    "1. *params:* A set of model parameters for the model function\n",
    "2. *func:* The model function that is being applied\n",
    "3. *x:* An array of x values\n",
    "4. *y:* An array of y values\n",
    "\n",
    "This function applies the model function to the *x* values using the model parameters and computes the resulting *MSE* with the observed *y* values. Assuming the data (i.e. the *x* and *y* values) and the model function are fixed, the model parameter(s) can be varied and the function will return an *MSE* for each parameter setting.\n",
    "\n",
    "The *SciPy* module *optimize* has a lot of functions to solve exactly this type of problem, where you change some parameters in order to minimize some function. As the current linear model has only one variable, we'll use the function [minimize_scalar](https://docs.scipy.org/doc/scipy/reference/generated/scipy.optimize.minimize_scalar.html#scipy.optimize.minimize_scalar)\n",
    "\n",
    "The function we want to minimize is the `MSE_fit_func` (i.e. the MSE of applying the model function to the data), and as the minimization method we'll use `Brent`. There are quite a few different minimization methods *SciPy* offers, but we won't worry about their differences for now and just use the simple `Brent` method. All minimization functions will try and minimize the returned value of the function by varying its **first argument**. The other function arguments will remain fixed and may be provided with optional argument `args`.\n",
    "\n",
    "* Finish the call to `minimize_scalar` by filling in the correct values for `args` to fit the linear model to the simulation data generated in *Q1*.\n",
    "\n",
    "The variable `fit` will now be an [OptimizeResult](https://docs.scipy.org/doc/scipy/reference/generated/scipy.optimize.OptimizeResult.html#scipy.optimize.OptimizeResult) object.\n",
    "\n",
    "* Print the variable `fit` and some of its attributes to inspect the results of the minimization\n",
    "* Write in comments what the value of `a` is that minimizes the linear model MSE on your data\n",
    "* Plot the simulation data as dots and the fitted linear model as a line, both in the same plot"
   ]
  },
  {
   "cell_type": "code",
   "execution_count": 88,
   "metadata": {},
   "outputs": [
    {
     "name": "stdout",
     "output_type": "stream",
     "text": [
      "     fun: 0.98943068789942989\n",
      "    nfev: 9\n",
      "     nit: 5\n",
      " success: True\n",
      "       x: 0.47193531439750225\n"
     ]
    },
    {
     "data": {
      "image/png": "[encoded data removed]",
      "text/plain": [
       "<matplotlib.figure.Figure at 0x7f55be817a90>"
      ]
     },
     "metadata": {},
     "output_type": "display_data"
    }
   ],
   "source": [
    "from scipy import optimize\n",
    "\n",
    "def linear(x, a):\n",
    "    return a*x\n",
    "    \n",
    "\n",
    "def MSE(y_hat, y):\n",
    "    new_y = y - y_hat\n",
    "    return 1/len(y)*sum(new_y*new_y)\n",
    "    \n",
    "\n",
    "def MSE_fit_func(params, func, x, y):\n",
    "    return MSE(func(x, params), y)\n",
    "\n",
    "fit = optimize.minimize_scalar(MSE_fit_func, method='Brent', args=(linear, samples, simulated_data))\n",
    "\n",
    "print(fit)\n",
    "plt.plot(samples, simulated_data, 'ro')\n",
    "plt.plot(samples, linear(samples, fit.x))\n",
    "plt.show()\n",
    "\n",
    "# a = 0.47193531439750225"
   ]
  },
  {
   "cell_type": "markdown",
   "metadata": {},
   "source": [
    "## Q3: Fitting a polynomial model (2 points) \n",
    "\n",
    "Next we'll create a new model using a $4^{th}$-order polynomial function:\n",
    "\n",
    "$$y=b_0+b_1x+b_2x^2+b_3x^3+b_4x^4$$\n",
    "\n",
    "* Write a function `polynomial` which implements this model, with the argument *b* being an *ndarray* containing all model parameters $b_0 \\dots b_4$\n",
    "\n",
    "When minimizing multiple parameters, we'll need to provide starting values for `b`, from where the minimization function will start the search. For now, you should use `np.array([-5, 9, -4, 1, .01])` as the starting point and we'll come back to selecting sensible starting values for the parameters later.\n",
    "\n",
    "* Use the function [minimize](https://docs.scipy.org/doc/scipy/reference/generated/scipy.optimize.minimize.html#scipy.optimize.minimize) to fit the polynomial model to the generated data from *Q1* using the `Nelder-Mead` method\n",
    "* Write in comments what the value of `b` is that minimizes the polynomial model MSE on your data\n",
    "* Plot the simulation data as dots and the fitted polynomial model as a line, both in the same plot"
   ]
  },
  {
   "cell_type": "code",
   "execution_count": 89,
   "metadata": {},
   "outputs": [
    {
     "name": "stdout",
     "output_type": "stream",
     "text": [
      " final_simplex: (array([[-2.63535758,  3.74073289, -1.11326893,  0.14768834, -0.00676603],\n",
      "       [-2.63532555,  3.74073074, -1.1132781 ,  0.14769062, -0.00676618],\n",
      "       [-2.63540134,  3.74080528, -1.11330157,  0.14769342, -0.00676628],\n",
      "       [-2.63544898,  3.74081248, -1.11329363,  0.14769164, -0.00676619],\n",
      "       [-2.63528662,  3.74067155, -1.11325439,  0.14768728, -0.00676602],\n",
      "       [-2.63537821,  3.74079703, -1.11329469,  0.14769201, -0.00676621]]), array([ 0.83630872,  0.83630872,  0.83630872,  0.83630872,  0.83630872,\n",
      "        0.83630872]))\n",
      "           fun: 0.83630871680114593\n",
      "       message: 'Optimization terminated successfully.'\n",
      "          nfev: 921\n",
      "           nit: 567\n",
      "        status: 0\n",
      "       success: True\n",
      "             x: array([-2.63535758,  3.74073289, -1.11326893,  0.14768834, -0.00676603])\n"
     ]
    },
    {
     "data": {
      "image/png": "[encoded data removed]",
      "text/plain": [
       "<matplotlib.figure.Figure at 0x7f55be7f4780>"
      ]
     },
     "metadata": {},
     "output_type": "display_data"
    }
   ],
   "source": [
    "def polynomial(x, b):\n",
    "    y = 0\n",
    "    for i in range(len(b)):\n",
    "        y += b[i] * x**i\n",
    "    return y\n",
    "    \n",
    "    \n",
    "b = np.array([-5, 9, -4, 1, .01])\n",
    "\n",
    "fit = optimize.minimize(MSE_fit_func, b, method='Nelder-Mead', args=(polynomial, samples, simulated_data))\n",
    "\n",
    "print(fit)\n",
    "plt.plot(samples, simulated_data, 'ro')\n",
    "plt.plot(samples, polynomial(samples, fit.x))\n",
    "plt.show()"
   ]
  },
  {
   "cell_type": "markdown",
   "metadata": {},
   "source": [
    "## Q4: Fitting Ebbinghaus data (3 points)\n",
    "  \n",
    "Now let's look at some real data.\n",
    "  \n",
    "Ebbinghaus proposed the following equation to best described how savings change over time:\n",
    "\n",
    "$$  Q(t) = \\frac{u_1} {(log_{10}(t)^{a_1} + u_1)} $$\n",
    "\n",
    "where $Q(t)$ are the savings at time interval $t$, and $u_1$ and $a_1$ are the model parameters. Note that he calculated the best fitting parameters by hand, using *minutes* for the time interval. According to these calculations he suggested that $u_1= 1.84$ and $a_1 = 1.25$ were the best fitting parameters.  \n",
    "\n",
    "* Write a function `ebbinghaus` which implements this model, with the argument *params* being an *ndarray* containing the model parameters $u_1$ and $a_1$\n",
    "\n",
    "Next we'll load the data contained in *Ebbinghaus.txt* to try and fit our own model. The code for this has already been provided.\n",
    "\n",
    "* Use the function [minimize](https://docs.scipy.org/doc/scipy/reference/generated/scipy.optimize.minimize.html#scipy.optimize.minimize) to fit the Ebbinghaus model to the loaded Ebbinghaus data using the `Nelder-Mead` method\n",
    "* Write in comments what the values of $u_1$ and $a_1$ are that minimize the Ebbinghaus model MSE on the data\n",
    "* Plot the measured data, Ebbinghaus' manually fitted model and your minimized model, all in the same plot, and label each line\n",
    "\n",
    "Later the simpler exponential function has been proposed which is described by the equation\n",
    "\n",
    "$$ Q(t)=(1+u_1t)^{-a_1} $$   \n",
    "\n",
    "where $Q(t)$ are the savings at time interval $t$, and $u_1$ and $a_1$ are the model parameters.   \n",
    "\n",
    "* Write a function `exponential` which implements this model, with the argument *params* being an *ndarray* containing the model parameters $u_1$ and $a_1$\n",
    "* Use the function [minimize](https://docs.scipy.org/doc/scipy/reference/generated/scipy.optimize.minimize.html#scipy.optimize.minimize) to fit the exponential model to the loaded Ebbinghaus data using the `Nelder-Mead` method\n",
    "* Write in comments what the values of $u_1$ and $a_1$ are that minimize the exponential model MSE on the data\n",
    "* Plot the measured data, your minimized Ebbinghaus model and your minimized exponential model, all in the same plot, and label each line\n",
    "* Print out the MSE for both fitted models and compare them\n"
   ]
  },
  {
   "cell_type": "code",
   "execution_count": null,
   "metadata": {},
   "outputs": [],
   "source": [
    "def ebbinghaus(t, params):\n",
    "    \n",
    "\n",
    "data = np.loadtxt('Ebbinghaus.txt', skiprows=1)\n",
    "minutes = data[:, 0] / 60\n",
    "savings = data[:, 1]\n",
    "\n",
    "\n",
    "\n",
    "def exponential(t, params):\n",
    "    \n",
    "\n"
   ]
  }
 ],
 "metadata": {
  "kernelspec": {
   "display_name": "Python 3",
   "language": "python",
   "name": "python3"
  },
  "language_info": {
   "codemirror_mode": {
    "name": "ipython",
    "version": 3
   },
   "file_extension": ".py",
   "mimetype": "text/x-python",
   "name": "python",
   "nbconvert_exporter": "python",
   "pygments_lexer": "ipython3",
   "version": "3.6.3"
  }
 },
 "nbformat": 4,
 "nbformat_minor": 2
}
