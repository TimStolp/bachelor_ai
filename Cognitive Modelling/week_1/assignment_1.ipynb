{
 "cells": [
  {
   "cell_type": "markdown",
   "metadata": {},
   "source": [
    "# Het Rescorla-Wagner model\n",
    "\n",
    "De Rescorla-Wagner theorie illustreert hoe simpele leermethoden gevoelig kunnen zijn voor de koppeling tussen de geconditioneerde stimulus (CS) en de ongeconditioneerde stimulus (US). In het geval van Pavlov wordt er een associatie geleerd tussen een belletje en het vlees dat de hond voorgeschoteld krijgt.\n",
    "\n",
    "\n",
    "\n",
    "In reactie hierop produceert de hond speeksel. Het effect van de geconditioneerde stimulus (het belletje) wordt groter als er vaker een koppeling wordt gepresenteerd met een ongeconditioneerde stimulus (de steak): hoe vaker de associatie aangeboden wordt, hoe groter de respons, ofwel hoe groter de associatieve sterkte (V in het Rescorla-Wagner model).\n",
    "\n",
    "Met het Rescorla-Wagner model kun je sterktes van associaties kwantificeren en dat is de kern van deze opdrachten. Details over het Rescorla-Wagner model en extinctie, compound stimuli en blocking in *Learning & Memory*, en in de college slides.\n",
    "\n",
    "![](RWCurve.png)\n",
    "\n",
    "**Let op!** Hieronder volgen een aantal opdrachten over de R-W theorie. Bij elke vraag staat de hoeveelheid punten die je er voor kan krijgen. Geef de antwoorden in blocken met code of text. Gebruik voor antwoorden in text de \">\" voor blockquotes. **Geef bij elke vraag ook kort uitleg als hier om wordt gevraagd**. Sla het uiteindelijke notebook op, met jouw studentnummer en achternaam in de filenaam: `studentnummer_achternaam_opdrachtnummer` "
   ]
  },
  {
   "cell_type": "markdown",
   "metadata": {},
   "source": [
    "> dit is een voobeeld antwoord met `code`"
   ]
  },
  {
   "cell_type": "markdown",
   "metadata": {},
   "source": [
    "---"
   ]
  },
  {
   "cell_type": "markdown",
   "metadata": {},
   "source": [
    "## Verandering associatieve sterkte\n",
    "\n",
    "Stel dat de CS en de US 10 keer worden gepresenteerd. De maximale sterkte die de associatie tussen de CS en US kan hebben is 100 en de leersnelheid $\\alpha$ is 0.4. De sterkte van de associatie voordat de CS en US de eerste keer worden gepresenteerd is 0.\n",
    "\n",
    "Om het simpel te houden gaan we in de opdrachten uit van de een simperl RW model met maar een learning rate:\n",
    "\n",
    "$$ V_{t+1} = V_t + \\Delta V_t $$\n",
    "$$ \\Delta V_t = \\alpha(V_{max} - V_t) $$\n",
    "\n",
    "### Q1.a (6 punten)\n",
    "\n",
    "Wat is de waarde van $\\Delta V$ na de eerste leer-’trial’? Wat is dan de waarde van $V$ ?"
   ]
  },
  {
   "cell_type": "markdown",
   "metadata": {},
   "source": [
    "### Q1.b (6 punten)\n",
    "\n",
    "Schrijf een functie die $\\Delta V$ uitrekent. Welke argumenten, of informatie, heeft deze functie nodig om $\\Delta V$ te kunnen uitrekenen? Noem deze functiie `rescorla_wagner()`.\n",
    "\n",
    "Breid de functie uit zodat deze ook de waarde van ($V$) en $\\Delta V$ kan uitrekenen en bijhouden voor meerdere leertrials. Ga er van uit dat er in het begin nog geen enkele associatie is ($V$=0).\n",
    "\n",
    "Om je op weg te helpen:\n",
    "```python\n",
    "def rescorla_wagner(alpha, v_start, v_max, trials):\n",
    "    v_list = [] # empty list for Vs\n",
    "    delta_list = [] # empty list for ∆Vs\n",
    "    \n",
    "    for i in range(trials):\n",
    "        #1 store current V in list Vs\n",
    "        #2 calucalte ∆Vs \n",
    "        #3 store current ∆V in list dVs\n",
    "        #4 update V with new ∆V \n",
    "\n",
    "    return (v_list, delta_list)\n",
    "\n",
    "```"
   ]
  },
  {
   "cell_type": "markdown",
   "metadata": {},
   "source": [
    "### Q1.c (6 punten)\n",
    "\n",
    "Gberuik de functie om het leren van een associatie in 10 trials te simuleren. Gebruik hiervoor dan een learning rate van 0.4 ($\\alpha$) , een start associatie van 0 ($V$), en een $V_{max}$ van 100. Wat zijn de berekende waardes voor $V$ en $\\Delta V$ na 10 trials?\n",
    "\n"
   ]
  },
  {
   "cell_type": "markdown",
   "metadata": {},
   "source": [
    "### Q1.d (6 punten)\n",
    "We gaan nu een aantal grafieken maken om het gedrag van het model nog beter te begrijpen. Om je op weg te helpen is hier een functie om de grafieken mooi weer te geven:\n",
    "``` python\n",
    "%matplotlib inline\n",
    "import matplotlib.pyplot as plt\n",
    "\n",
    "def plot_trials(y_label, line_labels, *results_list):\n",
    "    trials = range(1, len(results_list[0])+1)\n",
    "    plt.xlabel(r\"$t$\")\n",
    "    plt.ylabel(y_label)\n",
    "    #plt.hlines(95, 0, 10, colors='red')\n",
    "    \n",
    "    for result in results_list:\n",
    "        plt.plot(trials, result)\n",
    "    \n",
    "    plt.legend(line_labels)\n",
    "    plt.show()\n",
    "\n",
    "```\n",
    "De eerste twee argumenten gebruik je om de data en assen te labelen. Bijvoorbeeld kan je `y_label = r\"$V$\"` gebruiken om aan te geven dat het om $V$ gaat. \n",
    "\n",
    "Plot nu de grafiek van de hele leercurve. Op de x-as komen de trials te staan en op de y-as de waardes van $V$. Na hoeveel trials is de associatieve sterkte op 95% van de maximale associatieve sterkte? (uncomment plt.hlines()) om een horizontale lijn aan de grafiek toe te voegen).\n",
    "\n"
   ]
  },
  {
   "cell_type": "markdown",
   "metadata": {},
   "source": [
    "### Q1.e (6 punten)\n",
    "\n",
    "Bereken nu ook de waardes van $V$ voor een andere waarde van $\\alpha$. Maak een plot met de twee leercurves voor twee verschillende waardes van $\\alpha$ (0.1 en 0.6). Wat is het effect van een hogere of lagere $\\alpha$?\n",
    "\n",
    "Plot in een aparte grafiek ook de $\\Delta V$'s, hoe verschillen die voor de verschillende $\\alpha$'s ?"
   ]
  },
  {
   "cell_type": "markdown",
   "metadata": {},
   "source": [
    "## Extinctie curve\n",
    "\n",
    "In deze opdracht ga je een extinctie curve plotten. Volg de stappen hieronder om de juiste waardes van $V$ te kunnen uitrekenen. In geval van extinctie begint de hond met al een sterke associatie tussen bel en beloning ($V_t=0 > 0$), maar deze associatie wordt verbroken. Gebruik dus voor $V$ de laatste waarde van de vorige oprdacht ($V_{t=0} \\approx 100$). Wat er nu gaat gebeuren is dus dat de bel rinkelt maar de hond niks krijgt (maar eerst wel verwacht).\n",
    "\n",
    "### Q2.a (6 punten)\n",
    "\n",
    "Wat is de maximale associatie waarde $V_{max}$ bij extinctie trials?\n",
    "\n",
    "\n",
    "\n",
    "### Q2.b (6 punten)\n",
    "\n",
    "Bereken nu de waarde van $V$ na de eerste extinctie trial met behulp van de R-W formule (en de functie die je hiervoor geschreven hebt in Opdracht 1; gebruik voor de waarde van $\\alpha$ = 0.4). Wat is deze waarde $V_{t=1}$?"
   ]
  },
  {
   "cell_type": "markdown",
   "metadata": {},
   "source": [
    "### Q2.c (6 punten)\n",
    "\n",
    "Bereken nu de waardes van V voor een aantal extinctie trials en plot deze in een grafiek. Na hoeveel extinctie trials is de associatieve sterkte $V$ minder dan 1% van de associatieve sterkte waar je mee begon? Plot ook de absolute waarde van $\\Delta V$, wat gebeurd daar mee?"
   ]
  },
  {
   "cell_type": "markdown",
   "metadata": {},
   "source": [
    "---"
   ]
  },
  {
   "cell_type": "markdown",
   "metadata": {},
   "source": [
    "## Compound stimuli\n",
    "\n",
    "In deze opdracht gaan we kijken naar het Rescorla-Wagner model voor compound stimuli. Bij compound stimuli bestaat de CS niet uit 1 stimulus maar uit een samenstelling van meerdere stimuli, bijvoorbeeld A (belletje) en B (lampje). Hierbij wordt de maximale associatieve waarde ($V_{max}$) van de US verdeeld over de stimuli A en B. Neem hierbij verder aan dat stimulus A een grotere leersnelheid ($\\alpha = 0.4$) heeft dan stimulus B ($\\alpha = 0.1$) omdat het belletje indringender is dan het lampje. Neem aan dat $V_{max}$ weer 100 is, en $V_{t=0}=0$. \n",
    "\n",
    "\n",
    "### Q3.a (6 punten)\n",
    "Maak een grafiek van de associatieve sterktes van A en B en van de compound van A en B (drie lijnen dus). **Let op!** Als het goed is kan $V_A+V_B$ nooit meer zijn dan $V_{max}$. Plot dit voor 20 trials. \n",
    "\n"
   ]
  },
  {
   "cell_type": "markdown",
   "metadata": {},
   "source": [
    "### Q3.b (6 punten)\n",
    "\n",
    "Bij het begin van trial 1 zijn alle associatie sterktes 0, ie van A, van B, en van de combinatie van A en B. Wat zijn de associatie sterktes van A, B, en van de combinatie van A en B na de eerste trial? En wat zijn de waardes na 20 trials?\n"
   ]
  },
  {
   "cell_type": "markdown",
   "metadata": {},
   "source": [
    "## Blocking\n",
    "\n",
    "\n",
    "Ook een blocking experiment gebruikt verschillende stimuli, en bestaat uit twee fases. Ga er nu van uit dat er nu weer een belletje en een lampje zijn, en dat stimulus B, het lampje, de geblockde stimulus is (zet dit keer voor beiden stimuli $\\alpha = 0.2$). Bij een blocking experiment zal in de eerste fase alleen stimulus A worden aangeboden en daarna na een tijd beiden stimuli tegelijk:\n",
    "\n",
    "fase 1:  CS_A -> US (20 trials)\n",
    "\n",
    "fase 2: (CS_A + CS_B) -> US (20 trials)\n",
    "\n",
    "### Q4.a (6 punten)\n",
    "\n",
    "Bij het begin van trial 1 zijn alle associatie sterktes 0 (ie van A *en* B). Wat zijn de associatie sterktes van A, B na de eerste trial? En na de tweede trial?**let op!** je kan hier gebruik maken van de functie die je voor opdracht 3 over compound stimuli hebt geschreven. \n",
    "\n",
    "\n"
   ]
  },
  {
   "cell_type": "markdown",
   "metadata": {},
   "source": [
    "### Q4.b (6 punten)\n",
    "\n",
    "Bereken nu de associatieve sterktes voor A en B voor een 20 trials in fase 1, en dan 20 trials in fase 2. Maak een grafiek van de associatieve sterktes van A en B voor deze 40 trials. Wat gebeurd er met de associate sterkte van stimulus B ($V_B$), ofwel wat gebeurd er als er na die 40 trials alleen een lampje aangaat zonder bel?\n"
   ]
  },
  {
   "cell_type": "markdown",
   "metadata": {},
   "source": [
    "### Q4.c (6 punten)\n",
    "\n",
    "Wat gebeurd er als de eerste fase wordt ingekort tot 5 trials? Laat zien met een plot en leg uit. "
   ]
  },
  {
   "cell_type": "markdown",
   "metadata": {},
   "source": [
    "## 5 Latent inhibition\n",
    "\n",
    "In het volgende experiment zijn er twee honden. De eerste hond, Scnhauzie, wordt in een hok gehouden waar gewoon af en toe, zomaar zonder goede reden, een belletje af gaat (CS). Als het belletje gaat gebeurd er verder dus niks. De tweede hond, Bello, wordt in een hok gehouden waar helemaal nooit iets te horen valt.\n",
    "\n",
    "Vervolgens doen beiden honden mee aan het experiment van Pavlov waarbij een belletje (CS) aan een een beloning (US) worden gekoppelt.\n",
    "\n",
    "### Q5.a (6 punten)\n",
    "\n",
    "Simuleer de data voor beiden honden en plot deze learning curves samen in een grafiek($\\alpha = 0.4$). Gebruik 10 pre-trials voor de pre-exposure van Schnauzie ($V_{max}=0$), en dan 10 leer trials voor beiden honden (nu wel een beloning dus $V_{max}$ weer 100).\n"
   ]
  },
  {
   "cell_type": "markdown",
   "metadata": {},
   "source": [
    "### Q5.b (6 punten)\n",
    "\n",
    "Hoe zien de leercurves er uit? Hoe verschild dit van de data in figure 4.16 in het boek, en wat is daar een mogelijke verklaring voor? Hoe zou je het RW model kunnen aanpassen om dit te ondervangen? Laat zien in een plotje of jou methode heeft gewerkt. "
   ]
  }
 ],
 "metadata": {
  "kernelspec": {
   "display_name": "Python 3",
   "language": "python",
   "name": "python3"
  },
  "language_info": {
   "codemirror_mode": {
    "name": "ipython",
    "version": 3
   },
   "file_extension": ".py",
   "mimetype": "text/x-python",
   "name": "python",
   "nbconvert_exporter": "python",
   "pygments_lexer": "ipython3",
   "version": "3.5.2"
  }
 },
 "nbformat": 4,
 "nbformat_minor": 2
}
