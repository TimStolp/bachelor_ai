{
 "cells": [
  {
   "cell_type": "markdown",
   "metadata": {},
   "source": [
    "# Lab 1\n",
    "\n",
    "In the computer labs we will work with the Python programming language within a Jupyter notebook. Each week a new notebook is made available that contains the exercises that are to be handed-in. \n",
    "\n",
    "* It is expected that you work individually and the usual plagarism rules apply.\n",
    "* Submissions are to be made on canvas. Make sure that you add your student ID in the submission comments.\n",
    "* The main notebook file you submit should read \"Lab[number]_[last name].ipynb\", for example \"Lab2_Bongers.ipynb\". \n",
    "* Please make sure your code will run without problems\n",
    "\n",
    "_You need to fill in everywhere that there is a_ '__TODO__'\n",
    "\n",
    "Feel free ask any questions during the computer lab sessions, or email the TA.\n",
    "\n",
    "**The due date for the labs is next Wednesday at 23:59**"
   ]
  },
  {
   "cell_type": "code",
   "execution_count": 1,
   "metadata": {},
   "outputs": [],
   "source": [
    "# Load the numpy numerical computation library\n",
    "import numpy as np\n",
    "\n",
    "# Load matplotlib, which controls plotting pretty graphs\n",
    "import matplotlib.pyplot as plt\n",
    "%matplotlib inline"
   ]
  },
  {
   "cell_type": "markdown",
   "metadata": {},
   "source": [
    "## Exercise 1\n",
    "\n",
    "In this exercise, we will perform the same computations as in Problem 4 from Homework 1, herein refered to as Problem 1.4. \n",
    "\n",
    "### Matrix-vector products: \n",
    "__TODO__ (0.5 pt) Write a function `same_size(A,B)` that given an array $\\mathbf{A}$ and a vector $\\mathbf{b}$ determines whether the product $\\mathbf{A} \\mathbf{b}$ is well-defined. The function should check that the number of columns of $\\mathbf{A}$ equals the number of rows of $\\mathbf{b}$ returning `True` or `False` accordingly.\n",
    "\n",
    "We will use the python library `numpy`, which is designed to perfom matrix computations. Recall that in `numpy`, there is a function `shape` that given an array returns a tuple $(m,n,...)$, where $m$ is number of rows, $n$ is number of columns etc. "
   ]
  },
  {
   "cell_type": "code",
   "execution_count": 2,
   "metadata": {},
   "outputs": [],
   "source": [
    "def same_size(A,B):\n",
    "    if A.shape[1] == B.shape[0]:\n",
    "        return True\n",
    "    return False"
   ]
  },
  {
   "cell_type": "markdown",
   "metadata": {},
   "source": [
    "__TODO__ Now we define $\\mathbf{A}$ and $\\mathbf{b}$ as in Homework problem 4 and check that our function indeed says that the product $\\mathbf{A}\\mathbf{b}$ is well-defined.  "
   ]
  },
  {
   "cell_type": "code",
   "execution_count": 3,
   "metadata": {},
   "outputs": [
    {
     "name": "stdout",
     "output_type": "stream",
     "text": [
      "True\n"
     ]
    }
   ],
   "source": [
    "\n",
    "list_A = [[1, 2],[3, 4]]\n",
    "A = np.array(list_A)\n",
    "\n",
    "list_b = [5, 6]\n",
    "b = np.array(list_b)\n",
    "b = b.reshape((2,1))\n",
    "\n",
    "print(same_size(A,b))"
   ]
  },
  {
   "cell_type": "markdown",
   "metadata": {},
   "source": [
    "__TODO__ (0.25 pt) Now give an example where `same_size()` would return the value `False`."
   ]
  },
  {
   "cell_type": "code",
   "execution_count": 4,
   "metadata": {},
   "outputs": [
    {
     "name": "stdout",
     "output_type": "stream",
     "text": [
      "False\n"
     ]
    }
   ],
   "source": [
    "list_C = [[1, 2],[3, 4]]\n",
    "C = np.array(list_C)\n",
    "\n",
    "list_d = [5, 6]\n",
    "d = np.array(list_d)\n",
    "d = d.reshape((1,2))\n",
    "\n",
    "print(same_size(C,d))"
   ]
  },
  {
   "cell_type": "markdown",
   "metadata": {},
   "source": [
    "__TODO__ (1 pt) Now write a function `product(A,B)` that computes the matrix-matrix product $\\mathbf{A} \\mathbf{B}$. The function should first call `same_size()` to check whether $\\mathbf{A} \\mathbf{B}$ is well-defined. If the product is not well-defined, `product()` should return False; otherwise, returning the result $\\mathbf{A} \\mathbf{B}$.\n",
    "\n",
    "For this exercise you may not use pre-existing numpy functions. You must implement the formula $(\\mathbf{A} \\mathbf{B})_{ij} = \\sum_{l=1}^m A_{il} B_{lj} $ (if $\\mathbf{A}$ is an array of size $(n,k)$ and $\\mathbf{B}$ is an array of size $(k,m)$). "
   ]
  },
  {
   "cell_type": "code",
   "execution_count": 5,
   "metadata": {},
   "outputs": [
    {
     "name": "stdout",
     "output_type": "stream",
     "text": [
      "[[17]\n",
      " [39]]\n"
     ]
    }
   ],
   "source": [
    "def product(A,B):\n",
    "    if same_size(A,B):\n",
    "        answer = []\n",
    "        for y in range(A.shape[0]):\n",
    "            temp_array = []\n",
    "            # print(\"y = {}\".format(y))\n",
    "            for x in range(B.shape[1]):\n",
    "                # print(\"x = {}\".format(x))\n",
    "                temp_number = 0\n",
    "                for z in range(A.shape[1]):\n",
    "                    # print(\"z = {}\".format(z))\n",
    "                    # print(\"A = {}\".format(A[y][z]))\n",
    "                    # print(\"B = {}\".format(B[z][x]))\n",
    "                    # print(A[y][z]*B[z][x])\n",
    "                    temp_number = temp_number + A[y][z]*B[z][x]\n",
    "                temp_array.append(temp_number)\n",
    "            answer.append(temp_array)\n",
    "        return np.array(answer)\n",
    "    return False\n",
    "\n",
    "# insert your code \n",
    "\n",
    "print(product(A,b))\n"
   ]
  },
  {
   "cell_type": "markdown",
   "metadata": {},
   "source": [
    "Let us now use `product()` to solve Problem 1.4.2. \n",
    "\n",
    "__TODO__ Compute the product $\\mathbf{b}^T \\mathbf{A}$. Check that the answer is the same as the one you found in your written assignment."
   ]
  },
  {
   "cell_type": "code",
   "execution_count": 6,
   "metadata": {},
   "outputs": [
    {
     "name": "stdout",
     "output_type": "stream",
     "text": [
      "[[23 34]]\n"
     ]
    }
   ],
   "source": [
    "print(product(b.T,A))"
   ]
  },
  {
   "cell_type": "markdown",
   "metadata": {},
   "source": [
    "To define `product()`, you were asked to not use any built-in functions. There is however already a function in numpy that computes the product of 2 matrices. \n",
    "\n",
    "__TODO__ (0.25 pt) Find that function in the library and use it to compute the product  $\\mathbf{b}^T \\mathbf{A}$. You should find the same answer as the one you obtained using your own function `product()`."
   ]
  },
  {
   "cell_type": "code",
   "execution_count": 7,
   "metadata": {},
   "outputs": [
    {
     "name": "stdout",
     "output_type": "stream",
     "text": [
      "[[23 34]]\n"
     ]
    }
   ],
   "source": [
    "print(np.dot(b.T,A))"
   ]
  },
  {
   "cell_type": "markdown",
   "metadata": {},
   "source": [
    "You will now write a function that computes the inverse of an array $\\mathbf{A}$ of size $(2,2)$. You may not use any pre-existing inverse functions from any libraries, but instead use the definition $$\\begin{bmatrix} a & b \\\\ c & d \\end{bmatrix} = \\text{det}(\\mathbf{A})^{-1} \\begin{bmatrix} d & -b \\\\ -c & a \\end{bmatrix}.$$\n",
    "\n",
    "__TODO__ (1 pt)  First write a function `determinant(A)` that given an array $\\mathbf{A}$ of size $(2,2)$ returns the determinant of $\\mathbf{A}$. Recall that $\\text{det}\\left(\\begin{bmatrix} a & b \\\\ c & d \\end{bmatrix}\\right)=ad - bc$."
   ]
  },
  {
   "cell_type": "code",
   "execution_count": 8,
   "metadata": {},
   "outputs": [
    {
     "name": "stdout",
     "output_type": "stream",
     "text": [
      "-2\n"
     ]
    }
   ],
   "source": [
    "#insert your code\n",
    "def determinant(A):\n",
    "    return A[0][0]*A[1][1] - A[0][1]*A[1][0]\n",
    "\n",
    "print(determinant(A))\n"
   ]
  },
  {
   "cell_type": "markdown",
   "metadata": {},
   "source": [
    "__TODO__ (0.25 pt) In the library `numpy.linalg`, there is an already built-in function that computes the determinant. Use that function to compute the determinant of $\\mathbf{A}$ and check that you obtained the same result as with your own function `determinant(A)`. "
   ]
  },
  {
   "cell_type": "code",
   "execution_count": 9,
   "metadata": {},
   "outputs": [
    {
     "data": {
      "text/plain": [
       "-2.0000000000000004"
      ]
     },
     "execution_count": 9,
     "metadata": {},
     "output_type": "execute_result"
    }
   ],
   "source": [
    "np.linalg.det(A)"
   ]
  },
  {
   "cell_type": "markdown",
   "metadata": {},
   "source": [
    "__TODO__ (1 pt) Now use `determinant()` to define the function `inverse(A)`."
   ]
  },
  {
   "cell_type": "code",
   "execution_count": 10,
   "metadata": {},
   "outputs": [],
   "source": [
    "def inverse(A):\n",
    "    return 1/determinant(A)*np.array([[A[1][1], -A[0][1]], [-A[1][0], A[0][0]]])"
   ]
  },
  {
   "cell_type": "markdown",
   "metadata": {},
   "source": [
    "__TODO__ Let us use this function to calculate $\\mathbf{A}^{-1}$ as in Problem 1.4. Compare this answer with the answer from your written assignement. "
   ]
  },
  {
   "cell_type": "code",
   "execution_count": 11,
   "metadata": {},
   "outputs": [
    {
     "name": "stdout",
     "output_type": "stream",
     "text": [
      "[[-2.   1. ]\n",
      " [ 1.5 -0.5]]\n"
     ]
    }
   ],
   "source": [
    "print(inverse(A))"
   ]
  },
  {
   "cell_type": "markdown",
   "metadata": {},
   "source": [
    "In `numpy`, there is also a function that directly calculates the inverse of an array [`np.linalg.inv`] (https://docs.scipy.org/doc/numpy/reference/generated/numpy.linalg.inv.html)\n",
    "\n",
    "__TODO__ (0.25 pt) Print the inverse of $\\mathbf{A}$ using the inverse function. Check that this is equal to your previous result."
   ]
  },
  {
   "cell_type": "code",
   "execution_count": 12,
   "metadata": {},
   "outputs": [
    {
     "data": {
      "text/plain": [
       "array([[-2. ,  1. ],\n",
       "       [ 1.5, -0.5]])"
      ]
     },
     "execution_count": 12,
     "metadata": {},
     "output_type": "execute_result"
    }
   ],
   "source": [
    "np.linalg.inv(A)"
   ]
  },
  {
   "cell_type": "markdown",
   "metadata": {},
   "source": [
    "__BONUS__ (1 pt) Below there are 2 functions `matching` and `matching_bis` that check whether the inverse of $\\mathbf{A}$ calculated using `np.linalg.inv()` is equal to your own `inverse()`. The functions return `1` if the 2 matrices are equal and `0` otherwise. Can you guess why the first function returns $0$ d the second function returns a $1$ even though the 2 matrices are equal? "
   ]
  },
  {
   "cell_type": "code",
   "execution_count": 13,
   "metadata": {},
   "outputs": [
    {
     "name": "stdout",
     "output_type": "stream",
     "text": [
      "0\n",
      "1\n"
     ]
    }
   ],
   "source": [
    "A1 = inverse(A)\n",
    "A2 = np.linalg.inv(A)\n",
    "\n",
    "def matching(A1,A2):\n",
    "    print(np.prod(np.equal(A1,A2)))\n",
    "    \n",
    "def matching_bis(A1,A2):\n",
    "    print(np.prod(np.isclose(A1,A2)))\n",
    "    \n",
    "matching(A1,A2)\n",
    "matching_bis(A1,A2)\n",
    "\n",
    "# The reason why the first function returns 0 is because it uses the determinant to calculate the inverse\n",
    "# And the determinant from my function returns -2 and the numpy function returns -2.0000000000000004 which is not the same\n",
    "# This may be because the simplified way to calculate the determinant for a 2x2 matrix is a little inaccurate\n",
    "# or the way numpy calculates the determinant for any size matrix is innacurate with such a small matrix as 2x2\n",
    "# (The second explenation seems more likely, also because I assume numpy works with floats, which are inaccurate)\n",
    "# The second function returns 1 because it only checks if the determinants are close to each other\n",
    "# -2 and -2.0000000000000004 are indeed close to each other"
   ]
  },
  {
   "cell_type": "markdown",
   "metadata": {},
   "source": [
    "Finally in Problem 1.4.4, you had to calculate $\\mathbf{A}^{-1}\\mathbf{b}$.\n",
    "\n",
    "__TODO__ Use your functions `inverse()` and `product()` to compute $\\mathbf{A}^{-1}\\mathbf{b}$. You can check that this matches your answer from the written assignment."
   ]
  },
  {
   "cell_type": "code",
   "execution_count": 14,
   "metadata": {},
   "outputs": [
    {
     "name": "stdout",
     "output_type": "stream",
     "text": [
      "[[-4. ]\n",
      " [ 4.5]]\n"
     ]
    }
   ],
   "source": [
    "print(product(inverse(A),b))"
   ]
  },
  {
   "cell_type": "markdown",
   "metadata": {},
   "source": [
    "__TODO__ (0.5 pt) Now try this for the matrix $\\mathbf{A} = \\begin{bmatrix} 3 & 6 \\\\ 2 & 4 \\end{bmatrix}$. Why do you get this result? Write your answer as a comment in the code."
   ]
  },
  {
   "cell_type": "code",
   "execution_count": 15,
   "metadata": {},
   "outputs": [
    {
     "name": "stdout",
     "output_type": "stream",
     "text": [
      "[[ nan]\n",
      " [ nan]]\n"
     ]
    },
    {
     "name": "stderr",
     "output_type": "stream",
     "text": [
      "/home/tim/.local/lib/python3.6/site-packages/ipykernel_launcher.py:2: RuntimeWarning: divide by zero encountered in long_scalars\n",
      "  \n",
      "/home/tim/.local/lib/python3.6/site-packages/ipykernel_launcher.py:15: RuntimeWarning: invalid value encountered in double_scalars\n",
      "  from ipykernel import kernelapp as app\n"
     ]
    }
   ],
   "source": [
    "A = np.asarray([[3,6],[2,4]])\n",
    "print(product(inverse(A),b))\n",
    "\n",
    "# Because the determinant is 0 and to calculate the inverse of a matrix\n",
    "# one of the steps is that I multiply the matrix by 1 divided by the determinant\n",
    "# and dividing by 0 is impossible"
   ]
  },
  {
   "cell_type": "markdown",
   "metadata": {},
   "source": [
    "## Exercise 2\n",
    "This exercise is based on the hard drive example in the Week 1 notes.\n",
    "\n",
    "You are given a binary input string of length $n$. The probability of a particular bit $X$ being 0 is $P(X=0) = p$ (clearly $P(X=1)=1-p$). This string is read by a machine which is prone to read-errors. If $Y$ denotes the bit read (after errors), then with a probability $P(Y=1 | X=0)=p_{0\\to 1}$, the machine reads a $0$ instead of a $1$ and with a probability $P(Y=0 | X=1)=p_{1\\to 0}$, it reads a $1$ as a $0$. We call $X$ the __input__ and $Y$ the __output__.\n",
    "\n",
    "Using the sum and product rules and knowing the values $p$, $p_{0\\to1}$ and $p_{1\\to0}$, we can calculate theoretically the marginal $P(Y=0)$. Say we did not know $p_{0_\\to1}$ or $p_{1\\to0}$, however, but were given a string output by the machine, we could still estimate $P(Y=0)$. Namely, given a length $n$ output, containing $k$ zero bits, then we would estimate $P(Y=0) = k/ n$. We denote this simulated estimate as $\\hat{P}(Y=0)$.\n",
    "\n",
    "The goal of this exercise is to calculate theoretically the marginal $P(Y=0)$ and to compare it with a simulated version $\\hat{P}(Y=0)$. Then we will represent graphically those values to see how much they differ. Finally we will graphically represent how the difference between the simulated estimate and the real value $P(Y=0)$ evolves, as $n$ becomes bigger and bigger.\n",
    "\n",
    "### Generating the input\n",
    "You will now randomly generate the input for the machine. You need to write a function `sample(n,p)` that returns a length $n$ random binary string, where the probability that any bit is $0$ is $p$.\n",
    "\n",
    "In order to help you, we provide you with a function `sample_bit(p)` which generates a $0$ or a $1$ with probability $p$."
   ]
  },
  {
   "cell_type": "code",
   "execution_count": 16,
   "metadata": {},
   "outputs": [],
   "source": [
    "def sample_bit(p):\n",
    "    if np.random.rand() < p: return 0\n",
    "    else: return 1"
   ]
  },
  {
   "cell_type": "markdown",
   "metadata": {},
   "source": [
    "__TODO__ (0.5 pt) Explain what the function `np.random.rand()` does and why the function `sample_bit()` indeed returns a $0$ with probability $p$. Write you answer as a comment in the below below."
   ]
  },
  {
   "cell_type": "code",
   "execution_count": 17,
   "metadata": {},
   "outputs": [],
   "source": [
    "# The function np.random.rand() gives a random number between 0 and 1 which is also why sample_bit() works\n",
    "# when the random generated number is lower than p then it returns a 0, this happens with a probability of p\n",
    "# example: if p is 0.1, there is a 10% chance of the random generatated number to be below 0.1\n",
    "# and so a 10% chance for sample_bit() to return 0, which is a probability of 0.1\n",
    "# (np.random.rand() can be given dimensions as argument to fill a matrix with those dimensions with random numbers between 0 and 1)"
   ]
  },
  {
   "cell_type": "markdown",
   "metadata": {},
   "source": [
    "__TODO__ (1 pt) Now using  `sample_bit`(), write the function `sample(n,p)` (as defined earlier). Next, call the function with the values $n=100$ and $p=0.2$ and print the result."
   ]
  },
  {
   "cell_type": "code",
   "execution_count": 18,
   "metadata": {},
   "outputs": [
    {
     "name": "stdout",
     "output_type": "stream",
     "text": [
      "1001111111110110111111111101111111111001100111111110111111111111111101011100110101111100011111111110\n"
     ]
    }
   ],
   "source": [
    "#insert your code\n",
    "def sample(n,p):\n",
    "    bit_string = \"\"\n",
    "    for _ in range(n):\n",
    "        bit_string += str(sample_bit(p))\n",
    "    return bit_string\n",
    "\n",
    "s = sample(100,0.2)\n",
    "print(s)"
   ]
  },
  {
   "cell_type": "markdown",
   "metadata": {},
   "source": [
    "### Generating an output\n",
    "\n",
    "Given the input for the machine, we now generate outputs. We define a function `transform_sample(s,p00,p11)` where `s` is a length $n$ string input for the machine, $\\texttt{p00} = p_{0\\to0}$ is the probability that the machines recognizes a $0$ as a $0$ and $\\texttt{p11} = p_{1\\to1}$ is the probability that the machine recognizes a $1$ as a $1$. The output of the function is also a length $n$ string. \n",
    "\n",
    "__TODO__ (1 pt) Complete `transform_sample(s, p00, p11)` so that when the machine reads a $0$ in $s$, it should transforms it into a $1$ with probability $1-p_{0\\to0}$ etc.\n",
    "\n",
    "Finally you should call `transform_sample(s,p00,p11)` with the values $p_{0\\to0}=0.8$, $p_{1\\to1}=0.9$."
   ]
  },
  {
   "cell_type": "code",
   "execution_count": 19,
   "metadata": {},
   "outputs": [
    {
     "name": "stdout",
     "output_type": "stream",
     "text": [
      "1011011111110110111111110101111111110101110111111011111111111111111001011100110101111100011111011101\n"
     ]
    }
   ],
   "source": [
    "# insert your code\n",
    "def transform_sample(s,p00,p11):\n",
    "    new_string = \"\"\n",
    "    for c in s:\n",
    "        if int(c) == 0:\n",
    "            if np.random.rand() < 1-p00:\n",
    "                new_string += \"1\"\n",
    "                continue\n",
    "        if int(c) == 1:\n",
    "            if np.random.rand() < 1-p11:\n",
    "                new_string += \"0\"\n",
    "                continue\n",
    "        new_string += c\n",
    "    return new_string\n",
    "\n",
    "\n",
    "t = transform_sample(s,0.8,0.9)\n",
    "print(t)        "
   ]
  },
  {
   "cell_type": "markdown",
   "metadata": {},
   "source": [
    "### Computing the marginal estimate $\\hat{P}(Y=0)$\n",
    "\n",
    "__TODO__ (0.5 pt) Given a length $n$ output, we can estimate the probabiliity that any bit is a $0$. This is simply $\\hat{P}(Y=0) = k / n$, where $k$ is the number of $0$ occurring in the output. Write a function `marginal_estimate(t)` which given a string `t`, returns $\\hat{P}(Y=0)$.  "
   ]
  },
  {
   "cell_type": "code",
   "execution_count": 20,
   "metadata": {},
   "outputs": [
    {
     "name": "stdout",
     "output_type": "stream",
     "text": [
      "0.22\n"
     ]
    }
   ],
   "source": [
    "#insert your code\n",
    "\n",
    "def marginal_estimate(t):\n",
    "    k = 0\n",
    "    for c in t:\n",
    "        if int(c) == 0:\n",
    "            k += 1\n",
    "    return k/len(t)\n",
    "            \n",
    "            \n",
    "\n",
    "print(marginal_estimate(t))"
   ]
  },
  {
   "cell_type": "markdown",
   "metadata": {},
   "source": [
    "### Theoretical computation of the true marginal $P(Y=0)$\n",
    "\n",
    "__TODO__ (0.5 pt)  Given $p$, $p_{0\\to0}$ and $p_{1\\to1}$, we can calculate the marginal $P(Y=0)$ exactly. Construct a function `marginal_theory(p,p00,p11)` that given $p$, $p_{0\\to0}$ and $p_{1\\to1}$, returns the probability that the machine returns a $0$.\n",
    "\n",
    "Use that function to compute that probability in the case where $p=0.2$, $p_{0\\to0}=0.8$ and $p_{1\\to1}=0.9$. Recall that the law of total probability is\n",
    "\n",
    "$\n",
    "P(A) = P(A |B) P(B) + P(A |B^c) P(B^c)\n",
    "$"
   ]
  },
  {
   "cell_type": "code",
   "execution_count": 21,
   "metadata": {},
   "outputs": [
    {
     "name": "stdout",
     "output_type": "stream",
     "text": [
      "0.24000000000000002\n"
     ]
    }
   ],
   "source": [
    "#insert your code\n",
    "def marginal_theory(p,p00,p11):\n",
    "    return p00*p+(1-p11)*(1-p)\n",
    "    \n",
    "new_p = marginal_theory(0.2,0.8,0.9)\n",
    "print(new_p)"
   ]
  },
  {
   "cell_type": "markdown",
   "metadata": {},
   "source": [
    "### Draw histogram to compare the two marginals\n",
    "\n",
    "We draw now two histograms, the first one to illustrate the theoretical probability $P(Y=0)$ and the second one to illustrate the simulated probability based on `t`. \n",
    "\n",
    "In the first histogram, the value $0$ should be mapped to the probability  $P(Y=0)$ computed with the function `marginal_theory()` and the value $1$ to $1 - P(Y=0)$. In the second histogram, $0$ should be mapped to the estimated marginal $\\hat{P}(Y=0)$ computed with the function `marginal_estimate()` etc.\n",
    "\n",
    "__TODO__ (0.5 pt) Draw the two histograms on top of each other and use the parameter `alpha` from the `plt.hist()` function, in order to make the histograms semi-transparent."
   ]
  },
  {
   "cell_type": "code",
   "execution_count": 22,
   "metadata": {},
   "outputs": [
    {
     "data": {
      "text/plain": [
       "<Container object of 2 artists>"
      ]
     },
     "execution_count": 22,
     "metadata": {},
     "output_type": "execute_result"
    },
    {
     "data": {
      "image/png": "[encoded data removed]",
      "text/plain": [
       "<matplotlib.figure.Figure at 0x7f0a00fda2b0>"
      ]
     },
     "metadata": {},
     "output_type": "display_data"
    }
   ],
   "source": [
    "plt.bar([0, 1], [marginal_theory(0.2,0.8,0.9), 1-marginal_theory(0.2,0.8,0.9)], color=\"green\", width=0.25, alpha=0.5)\n",
    "plt.bar([0, 1], [marginal_estimate(t), 1-marginal_estimate(t)], color=\"red\", width=0.20, alpha=0.5)\n"
   ]
  },
  {
   "cell_type": "markdown",
   "metadata": {},
   "source": [
    "### Evolution of the simulation as $n$ grows\n",
    "\n",
    "We would expect that as $n$ grows, the marginal estimate $\\hat{P}(Y=0)$ should get closer to the true value. \n",
    "\n",
    "You will graph out the different values of the estimate for different values of $n$. For each value of $n \\in \\{1,2,...,N\\}$, we will generate $m$ different estimates based on the length $n$ output. All of these estimates will be represented in the graph and we will then see how those evolve as $n$ gets bigger.\n",
    "\n",
    "__TODO__ (1 pt) Define a function `graph(m,N,p,p00,p11)` that draws two overlaid graphs (use a different color for each graph). The domain of both graphs is `np.arange(1,N+1)`. Intuitively, each $n$ in the domain will specify the size of the string that we are using for $\\hat{P}(Y=0)$. The first graph should be a constant function displaying the value $P(Y=0)$ computed by `marginal_theory()`. The second graph should show the output of `compute_marginal()` for each value $n$. The probabilities `p`, `p00` and `p11` have the same interpretations as before. What do you notice?"
   ]
  },
  {
   "cell_type": "code",
   "execution_count": 23,
   "metadata": {},
   "outputs": [
    {
     "name": "stdout",
     "output_type": "stream",
     "text": [
      "done\n"
     ]
    },
    {
     "data": {
      "image/png": "[encoded data removed]",
      "text/plain": [
       "<matplotlib.figure.Figure at 0x7f09fef40f28>"
      ]
     },
     "metadata": {},
     "output_type": "display_data"
    }
   ],
   "source": [
    "#insert your code\n",
    "\n",
    "m = 20\n",
    "N = 250\n",
    "p = 0.2\n",
    "p00 = 0.8\n",
    "p11 = 0.9\n",
    "\n",
    "def graph(m,N,p,p00,p11):\n",
    "    plt.axhline(marginal_theory(p,p00,p11), linewidth=2)\n",
    "    list_x = []\n",
    "    list_y = []\n",
    "    for x in range(N):\n",
    "        counter = 0\n",
    "        list_x.append(x)\n",
    "        for y in range(m):\n",
    "            s = sample(x+1, p)\n",
    "            t = transform_sample(s,p00,p11)\n",
    "            counter += marginal_estimate(t)\n",
    "        list_y.append(counter/m)\n",
    "    plt.plot(list_x, list_y, 'ro')\n",
    "    print(\"done\")\n",
    "    \n",
    "\n",
    "graph(m,N,p,p00,p11)"
   ]
  },
  {
   "cell_type": "code",
   "execution_count": null,
   "metadata": {},
   "outputs": [],
   "source": []
  }
 ],
 "metadata": {
  "kernelspec": {
   "display_name": "Python 3",
   "language": "python",
   "name": "python3"
  },
  "language_info": {
   "codemirror_mode": {
    "name": "ipython",
    "version": 3
   },
   "file_extension": ".py",
   "mimetype": "text/x-python",
   "name": "python",
   "nbconvert_exporter": "python",
   "pygments_lexer": "ipython3",
   "version": "3.6.3"
  }
 },
 "nbformat": 4,
 "nbformat_minor": 2
}
