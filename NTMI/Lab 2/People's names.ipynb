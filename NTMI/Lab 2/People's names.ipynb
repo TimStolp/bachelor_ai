{
 "cells": [
  {
   "cell_type": "markdown",
   "metadata": {},
   "source": [
    "**This is not** an assignment, it's simply here for you to play with the data gathered in the first lecture.\n",
    "\n",
    "We will have a quick look at our colleagues' names."
   ]
  },
  {
   "cell_type": "code",
   "execution_count": 38,
   "metadata": {},
   "outputs": [],
   "source": [
    "import csv\n",
    "from collections import Counter"
   ]
  },
  {
   "cell_type": "code",
   "execution_count": 39,
   "metadata": {},
   "outputs": [
    {
     "name": "stdout",
     "output_type": "stream",
     "text": [
      "['Timestamp', 'How should I call you?']\n"
     ]
    }
   ],
   "source": [
    "data = []\n",
    "with open('introduction.csv') as csv_file:\n",
    "    csv_reader = csv.reader(csv_file, delimiter=',')\n",
    "    print(next(csv_reader))\n",
    "    data.extend(name.split(' ')[0] for timestamp, name in csv_reader)"
   ]
  },
  {
   "cell_type": "markdown",
   "metadata": {},
   "source": [
    "Most popular names"
   ]
  },
  {
   "cell_type": "code",
   "execution_count": 40,
   "metadata": {},
   "outputs": [
    {
     "data": {
      "text/plain": [
       "[('Marijn', 2),\n",
       " ('Tim', 2),\n",
       " ('Shelby', 2),\n",
       " ('Nienke', 2),\n",
       " ('Max', 2),\n",
       " ('Mimi', 2),\n",
       " ('Leon', 2),\n",
       " ('-----', 2),\n",
       " ('Jim', 1),\n",
       " ('Damiaan', 1),\n",
       " ('Mats', 1),\n",
       " ('Judith', 1),\n",
       " ('Nina', 1),\n",
       " ('Louis', 1),\n",
       " ('Djanira', 1),\n",
       " ('Remco', 1),\n",
       " ('Hugh', 1),\n",
       " ('Chandni', 1),\n",
       " ('Teun', 1),\n",
       " ('Aram', 1),\n",
       " ('Lord', 1),\n",
       " ('Jonne', 1),\n",
       " ('Magda', 1),\n",
       " ('Myrthe', 1),\n",
       " ('Jochem', 1),\n",
       " ('Jesse', 1),\n",
       " ('Mirka', 1),\n",
       " ('Lucas', 1),\n",
       " ('Chris', 1),\n",
       " ('Charlotte', 1),\n",
       " ('Kerkeruil', 1),\n",
       " ('Marlon', 1),\n",
       " ('Silvan', 1),\n",
       " ('Samir', 1),\n",
       " ('Siemer', 1),\n",
       " ('Bart', 1),\n",
       " ('Esmay', 1),\n",
       " ('Nils', 1),\n",
       " ('Enno', 1),\n",
       " ('Elisha', 1),\n",
       " ('Guilly', 1),\n",
       " ('Leo', 1),\n",
       " ('Kalle', 1),\n",
       " ('Frank', 1),\n",
       " ('Koen', 1),\n",
       " ('Stijn', 1),\n",
       " ('Baby', 1),\n",
       " ('Rick', 1),\n",
       " ('Jasper', 1),\n",
       " ('Karst', 1),\n",
       " ('Hi', 1)]"
      ]
     },
     "execution_count": 40,
     "metadata": {},
     "output_type": "execute_result"
    }
   ],
   "source": [
    "histogram = Counter(data)\n",
    "histogram.most_common()"
   ]
  },
  {
   "cell_type": "code",
   "execution_count": 41,
   "metadata": {},
   "outputs": [
    {
     "data": {
      "text/plain": [
       "Counter({'J': 6,\n",
       "         'D': 2,\n",
       "         'M': 11,\n",
       "         'N': 4,\n",
       "         'L': 6,\n",
       "         'R': 2,\n",
       "         'H': 2,\n",
       "         'C': 3,\n",
       "         'T': 3,\n",
       "         'A': 1,\n",
       "         'S': 6,\n",
       "         'K': 4,\n",
       "         'B': 2,\n",
       "         'E': 3,\n",
       "         'G': 1,\n",
       "         'F': 1,\n",
       "         '-': 2})"
      ]
     },
     "execution_count": 41,
     "metadata": {},
     "output_type": "execute_result"
    }
   ],
   "source": [
    "first_letter = Counter()\n",
    "first_letter.update(name[0] for name in data)\n",
    "first_letter"
   ]
  },
  {
   "cell_type": "code",
   "execution_count": 43,
   "metadata": {},
   "outputs": [],
   "source": [
    "import numpy as np\n",
    "letter = [k for k, v in first_letter.most_common()]\n",
    "count1 = np.array([v for k, v in first_letter.most_common()])"
   ]
  },
  {
   "cell_type": "code",
   "execution_count": 46,
   "metadata": {},
   "outputs": [
    {
     "data": {
      "text/plain": [
       "Text(0.5, 0, 'First letter')"
      ]
     },
     "execution_count": 46,
     "metadata": {},
     "output_type": "execute_result"
    },
    {
     "data": {
      "image/png": "[encoded data removed]",
      "text/plain": [
       "<Figure size 432x288 with 1 Axes>"
      ]
     },
     "metadata": {
      "needs_background": "light"
     },
     "output_type": "display_data"
    }
   ],
   "source": [
    "%matplotlib inline\n",
    "import matplotlib.pyplot as plt\n",
    "k = len(first_letter)\n",
    "support = np.arange(1, k + 1)\n",
    "_ = plt.bar(support, count1)\n",
    "plt.xticks(support, letter)\n",
    "plt.ylabel('Count')\n",
    "plt.xlabel('First letter')"
   ]
  },
  {
   "cell_type": "code",
   "execution_count": 47,
   "metadata": {},
   "outputs": [
    {
     "data": {
      "text/plain": [
       "Text(0.5, 0, 'First letter')"
      ]
     },
     "execution_count": 47,
     "metadata": {},
     "output_type": "execute_result"
    },
    {
     "data": {
      "image/png": "[encoded data removed]",
      "text/plain": [
       "<Figure size 432x288 with 1 Axes>"
      ]
     },
     "metadata": {
      "needs_background": "light"
     },
     "output_type": "display_data"
    }
   ],
   "source": [
    "_ = plt.bar(support, count1 / count1.sum())\n",
    "plt.xticks(support, letter)\n",
    "plt.ylabel('Count')\n",
    "plt.xlabel('First letter')"
   ]
  },
  {
   "cell_type": "code",
   "execution_count": 42,
   "metadata": {},
   "outputs": [
    {
     "data": {
      "text/plain": [
       "[('Ma', 7),\n",
       " ('Ni', 4),\n",
       " ('Ch', 3),\n",
       " ('Mi', 3),\n",
       " ('Le', 3),\n",
       " ('Lo', 2),\n",
       " ('Ti', 2),\n",
       " ('Sh', 2),\n",
       " ('Jo', 2),\n",
       " ('Si', 2),\n",
       " ('Ba', 2),\n",
       " ('Ka', 2),\n",
       " ('--', 2),\n",
       " ('Ji', 1),\n",
       " ('Da', 1),\n",
       " ('Ju', 1),\n",
       " ('Dj', 1),\n",
       " ('Re', 1),\n",
       " ('Hu', 1),\n",
       " ('Te', 1),\n",
       " ('Ar', 1),\n",
       " ('My', 1),\n",
       " ('Je', 1),\n",
       " ('Lu', 1),\n",
       " ('Ke', 1),\n",
       " ('Sa', 1),\n",
       " ('Es', 1),\n",
       " ('En', 1),\n",
       " ('El', 1),\n",
       " ('Gu', 1),\n",
       " ('Fr', 1),\n",
       " ('Ko', 1),\n",
       " ('St', 1),\n",
       " ('Ri', 1),\n",
       " ('Ja', 1),\n",
       " ('Hi', 1)]"
      ]
     },
     "execution_count": 42,
     "metadata": {},
     "output_type": "execute_result"
    }
   ],
   "source": [
    "first_2letters = Counter()\n",
    "first_2letters.update(name[:2] for name in data)\n",
    "first_2letters.most_common()"
   ]
  },
  {
   "cell_type": "code",
   "execution_count": null,
   "metadata": {},
   "outputs": [],
   "source": []
  }
 ],
 "metadata": {
  "kernelspec": {
   "display_name": "Python 3",
   "language": "python",
   "name": "python3"
  },
  "language_info": {
   "codemirror_mode": {
    "name": "ipython",
    "version": 3
   },
   "file_extension": ".py",
   "mimetype": "text/x-python",
   "name": "python",
   "nbconvert_exporter": "python",
   "pygments_lexer": "ipython3",
   "version": "3.7.0"
  }
 },
 "nbformat": 4,
 "nbformat_minor": 2
}
