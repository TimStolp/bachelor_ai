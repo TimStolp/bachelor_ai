{
 "cells": [
  {
   "cell_type": "markdown",
   "metadata": {},
   "source": [
    "***TIM STOLP***"
   ]
  },
  {
   "cell_type": "markdown",
   "metadata": {},
   "source": [
    "# Preamble\n",
    "## Please read this text carefully before beginning\n",
    "For the labs in this course, you should work with a partner, where the two of you share a single keyboard and screen. Each person needs to be responsible for making sure that both they and their partner understand what is going on. You should stay engaged with what your partner is doing and discuss what’s going on all times. That means:\n",
    "\n",
    "- If you know the answer and your partner doesn’t, _don’t_ just type it in and move on to the next question--- explain what you have done and why. This not only helps your partner to learn, but will also clarify your own understanding. Consider whether you could give other examples that would help your partner understand even better, and ask if they are satisfied with your explanation. Being able to think around a concept and explain it well to other people is an important skill to learn, and not always easy.\n",
    "- If your partner knows the answer and you don’t, _don’t_ let them move on until you understand too. And if you are at the keyboard, _don’t_ let them simply dictate what you should type if you don’t understand why. Do ask questions, and let your partner know if their explanation makes sense or not. Remember, just because they think they know the answer doesn’t necessarily mean they are right, and if it doesn’t make sense to you, they need to work harder at explaining (and maybe discover that they are wrong!)\n",
    "- If neither of you knows the answer, ask your TA, and they can try to help you.\n",
    "- If one person is much more familiar with Python than the other, consider putting the weaker person at the keyboard or at least switching frequently, so they will get more practice with basic coding skills.\n",
    "\n",
    "## Coding guidelines\n",
    "Make an effort to write well-structured and well-commented code. Your grader should be able to understand your code without too much effort. One line of comment for every line of code is not too much - ideally, even a person who does not know the programming language should be able to understand what is going on based on your comments. Your grader is allowed to remove up to two points out of every ten points, if your code is not readable. \n",
    "\n",
    "\n",
    "## Required software\n",
    "Jupyter notebook:\n",
    "\n",
    "**Easy installation**  The easiest way to get the required software is to install Anaconda. See https://www.continuum.io/downloads . It contains all required packages, including python and jupyter. You can choose python 2.7 or 3.5.\n",
    "\n",
    "**Manual installation** Make sure that you have numpy and matplotlib installed. If you don't, you can use e.g. pip install <package> --user (python2) or pip3 install <package> --user (python3).\n",
    "\n",
    "## Submission\n",
    "Please submit your jupyter notebook **as a pair via Canvas**.\n",
    "\n",
    "## Start the notebook\n",
    "Start a terminal, and cd into the directory where you saved the notebook. Then type jupyter notebook. Your web browser will open.\n",
    "\n",
    "\n",
    "This week's preamble is quite long. From next week, there will be less reading and more doing!\n",
    "\n"
   ]
  },
  {
   "cell_type": "markdown",
   "metadata": {},
   "source": [
    "---"
   ]
  },
  {
   "cell_type": "markdown",
   "metadata": {},
   "source": [
    "# General notes\n",
    "\n",
    "This exercise is meant to help you get familiar with some language data, do some basic text-processing, and explore some concepts learnt in class. We will use the **Penn Treebank** corpus (newspaper text) described below. First of all, take a few minutes to read some example sentences/utterances before starting to program. Then, using Jupyter Notebook, write code to answer the given questions. \n",
    "\n",
    "After concluding this lab you should know:\n",
    "\n",
    "* how to open a text file\n",
    "* how to read in sentences\n",
    "* how to pre-process text data as to normalise the vocabulary and reduce data sparsity\n",
    "* analyse distribution over words\n",
    "* plot figures\n",
    "\n",
    "The deadline for this submission is **Thursday 7 23:59** it consists of\n",
    "\n",
    "**Table of Exercises**\n",
    "\n",
    "\n",
    " (Points scored / Points available)\n",
    "* [Exercise 1-1](#ex1-1) (-/1)\n",
    "* [Exercise 1-2](#ex1-2) (-/1)\n",
    "* [Exercise 1-3](#ex1-3) (-/0.5)\n",
    "* [Exercise 1-4](#ex1-4) (-/2)\n",
    "* [Exercise 1-5](#ex1-5) (-/1)\n",
    "* [Exercise 1-6](#ex1-6) (-/0.5)"
   ]
  },
  {
   "cell_type": "markdown",
   "metadata": {},
   "source": [
    "Before you start programming make sure you have installed all necessary packages:"
   ]
  },
  {
   "cell_type": "code",
   "execution_count": 1,
   "metadata": {},
   "outputs": [
    {
     "name": "stdout",
     "output_type": "stream",
     "text": [
      "showing info https://raw.githubusercontent.com/nltk/nltk_data/gh-pages/index.xml\n"
     ]
    }
   ],
   "source": [
    "# you may need to `pip intall nltk` first, it takes some time\n",
    "# then the following will work\n",
    "import nltk\n",
    "nltk.download()\n",
    "from nltk.corpus import treebank"
   ]
  },
  {
   "cell_type": "code",
   "execution_count": 14,
   "metadata": {
    "scrolled": true
   },
   "outputs": [],
   "source": [
    "## you may need to pip install: numpy and matplotlib \n",
    "%matplotlib inline\n",
    "import numpy as np\n",
    "import matplotlib.pyplot as plt\n",
    "import csv\n",
    "import string\n",
    "import re\n",
    "import glob"
   ]
  },
  {
   "cell_type": "markdown",
   "metadata": {},
   "source": [
    "### Penn Treebank Corpus\n",
    "\n",
    "The **Penn Treebank** is a collection of data from the newspaper _The Wall Street Journal_, of about 1 Million words (40K sentences).  This dataset is very commonly used to to train models in NLP systems. It also contains additional information like Part-of-Speech tags and syntactic trees, which has been removed for this exercise: we provide you the text content in a file (`sec02-21.raw`). The dataset contains one sentence per line for this exercise."
   ]
  },
  {
   "cell_type": "markdown",
   "metadata": {
    "collapsed": true
   },
   "source": [
    "<a name=\"ex1-1\" style=\"color:red\">**Exercise 1-1**</a> **[1 point]** What are the total number of word tokens in this corpus? In this case, consider a word to be any string that is separated by whitespace. What are the total number of distinct word _types_?"
   ]
  },
  {
   "cell_type": "code",
   "execution_count": 15,
   "metadata": {},
   "outputs": [
    {
     "name": "stdout",
     "output_type": "stream",
     "text": [
      "Number of tokens: 929552\n"
     ]
    }
   ],
   "source": [
    "# Open file\n",
    "file = open('sec02-21.raw', 'r')\n",
    "# Get file content\n",
    "filecontent = file.read()\n",
    "# split on whitespace, get length, print answer\n",
    "number_tokens = len(filecontent.split())\n",
    "print(f\"Number of tokens: {number_tokens}\")"
   ]
  },
  {
   "cell_type": "markdown",
   "metadata": {},
   "source": [
    "<a name=\"ex1-2\" style=\"color:red\">**Exercise 1-2**</a> **[1 point]** In some cases, we don't want to consider punctuations the same way as other word tokens. Using regular expressions and/or nltk, remove punctuations from the corpus, and count the number of word tokens now.  What is the number of distinct word types?"
   ]
  },
  {
   "cell_type": "code",
   "execution_count": 16,
   "metadata": {},
   "outputs": [],
   "source": [
    "## Have a look at \n",
    "from nltk.tokenize import wordpunct_tokenize"
   ]
  },
  {
   "cell_type": "code",
   "execution_count": 17,
   "metadata": {},
   "outputs": [
    {
     "name": "stdout",
     "output_type": "stream",
     "text": [
      "Number of tokens without punctuations: 823512\n",
      "Number of distinct words: 42706\n"
     ]
    }
   ],
   "source": [
    "# Create translator to remove punctuation\n",
    "translator = str.maketrans('', '', string.punctuation)\n",
    "# remove punctuation and replace multiple whitespaces by a single whitespace\n",
    "no_punct_content = filecontent.translate(translator)\n",
    "# Get tokens\n",
    "no_punct_tokens = no_punct_content.split()\n",
    "# Get length of tokens\n",
    "number_no_punct_tokens = len(no_punct_tokens)\n",
    "print(f\"Number of tokens without punctuations: {number_no_punct_tokens}\")\n",
    "# Make set of list of tokens and get length\n",
    "distinct_no_punct_tokens = len(set(no_punct_tokens))\n",
    "print(f\"Number of distinct words: {distinct_no_punct_tokens}\")"
   ]
  },
  {
   "cell_type": "markdown",
   "metadata": {},
   "source": [
    "<a name=\"ex1-3\" style=\"color:red\">**Exercise 1-3**</a> **[0.5 point]** In some cases, it might be useful to remove the distinction between upper-cased and lower-case words, for example, the two uses of _can_ in _Can you program in Python?_ and _I can program in Python_. Again using regular expressions, python functions, or NLTK support, convert all words to lower-case, and now count the number of distinct word types in the corpus. "
   ]
  },
  {
   "cell_type": "code",
   "execution_count": 18,
   "metadata": {
    "scrolled": false
   },
   "outputs": [
    {
     "name": "stdout",
     "output_type": "stream",
     "text": [
      "Number of tokens without punctuations: 823512\n",
      "Number of distinct words: 37843\n"
     ]
    }
   ],
   "source": [
    "# make lowercase\n",
    "lower_no_punct_content = no_punct_content.lower()\n",
    "# Get tokens\n",
    "lower_no_punct_tokens = lower_no_punct_content.split()\n",
    "print(f\"Number of tokens without punctuations: {len(lower_no_punct_tokens)}\")\n",
    "# Make set of list of tokens and get length\n",
    "lower_distinct_no_punct_tokens = len(set(lower_no_punct_tokens))\n",
    "print(f\"Number of distinct words: {lower_distinct_no_punct_tokens}\")"
   ]
  },
  {
   "cell_type": "markdown",
   "metadata": {},
   "source": [
    "<a name=\"ex1-4\" style=\"color:red\">**Exercise 1-4**</a> **[2 points]** Plot a graph of word frequency versus rank of a word in this corpus (after removing punctuation and lower-casing). Does this corpus obey Zipf's law? "
   ]
  },
  {
   "cell_type": "code",
   "execution_count": 19,
   "metadata": {},
   "outputs": [
    {
     "data": {
      "text/plain": [
       "Counter({'a': 2, 'b': 1, 'c': 2, 'd': 1})"
      ]
     },
     "execution_count": 19,
     "metadata": {},
     "output_type": "execute_result"
    }
   ],
   "source": [
    "## You will need to count occurrences of types and sort it \n",
    "## (feel free to use python datastructures and functions to help you, for example, check python Counter).\n",
    "from collections import Counter\n",
    "Counter(['a', 'b', 'c', 'c', 'd', 'a'])"
   ]
  },
  {
   "cell_type": "code",
   "execution_count": 20,
   "metadata": {},
   "outputs": [
    {
     "data": {
      "text/plain": [
       "[<matplotlib.lines.Line2D at 0x7f21f3149c50>]"
      ]
     },
     "execution_count": 20,
     "metadata": {},
     "output_type": "execute_result"
    },
    {
     "data": {
      "image/png": "[encoded data removed]",
      "text/plain": [
       "<matplotlib.figure.Figure at 0x7f21f3f39320>"
      ]
     },
     "metadata": {},
     "output_type": "display_data"
    }
   ],
   "source": [
    "## and here is an example of how to plot things\n",
    "plt.figure(figsize=(6,3))\n",
    "plt.xlabel('Rank')\n",
    "plt.ylabel('Occurance')\n",
    "plt.loglog([1,2,3], [100, 10, 1])"
   ]
  },
  {
   "cell_type": "code",
   "execution_count": 21,
   "metadata": {},
   "outputs": [
    {
     "data": {
      "image/png": "[encoded data removed]",
      "text/plain": [
       "<matplotlib.figure.Figure at 0x7f21f3fe92e8>"
      ]
     },
     "metadata": {},
     "output_type": "display_data"
    }
   ],
   "source": [
    "# count and sort tokens\n",
    "sorted_frequency_words = Counter(lower_no_punct_tokens).most_common()\n",
    "plt.figure(figsize=(6,3))\n",
    "plt.xlabel('Rank')\n",
    "plt.ylabel('Occurance')\n",
    "# plot ranks on x-axis and frequency of word on y-axis\n",
    "plt.loglog(range(len(sorted_frequency_words)), [x[1] for x in sorted_frequency_words])\n",
    "plt.show()\n",
    "\n"
   ]
  },
  {
   "cell_type": "markdown",
   "metadata": {},
   "source": [
    "<a name=\"ex1-5\" style=\"color:red\">**Exercise 1-5**</a> **[1 point]** While processing the corpus as above, there may still be a few things that you don't consider real words. What are some of those things? [The question of what counts as a word and what doesn’t comes up a lot in NLP, and there is rarely a single correct answer; often we need to use our judgment and justify our decisions.]. Go back and remove some of these non-words, and re-plot the graph. "
   ]
  },
  {
   "cell_type": "code",
   "execution_count": 24,
   "metadata": {
    "scrolled": true
   },
   "outputs": [
    {
     "data": {
      "image/png": "[encoded data removed]",
      "text/plain": [
       "<matplotlib.figure.Figure at 0x7f21f3f3e828>"
      ]
     },
     "metadata": {},
     "output_type": "display_data"
    }
   ],
   "source": [
    "# Because the words corpus contains over 230k words and we have around 800k tokens\n",
    "# checking if each token is in the Brown corpus takes too long for this assignment (it would be more accuracte)\n",
    "# therefore the enchant library is used instead\n",
    "\n",
    "\n",
    "# from nltk.corpus import words\n",
    "\n",
    "# I use NLTK's list of words as the definition of a word\n",
    "# check if a token is in NLTK's list of words\n",
    "# real_words_lower_no_punct_tokens = [word for word in lower_no_punct_tokens if word in words.words()]\n",
    "\n",
    "# pip install pyenchant\n",
    "import enchant\n",
    "\n",
    "english_UK_dict = enchant.Dict(\"en_UK\")\n",
    "english_US_dict = enchant.Dict(\"en_US\")\n",
    "\n",
    "# A word is a word in this case if it exists in either the UK or US english dictionary of the enchanct python library\n",
    "# This mostly targets and removes names and abbreviation, I do not consider names to be words.\n",
    "# (If names should be kept in depends heavily on what you need from the cleaned text)\n",
    "# It leaves numbers in it, I consider this correct because I consider '1' and 'one' equal, with 'one' being a word\n",
    "# check if token is in english dictionary\n",
    "real_words_lower_no_punct_tokens = [word for word in lower_no_punct_tokens if english_UK_dict.check(word) or english_US_dict.check(word)]\n",
    "\n",
    "# count and sort tokens\n",
    "sorted_frequency_real_words = Counter(real_words_lower_no_punct_tokens).most_common()\n",
    "plt.figure(figsize=(6,3))\n",
    "plt.xlabel('Rank')\n",
    "plt.ylabel('Occurance')\n",
    "# plot ranks on x-axis and frequency of word on y-axis\n",
    "plt.loglog(range(len(sorted_frequency_real_words)), [x[1] for x in sorted_frequency_real_words])\n",
    "plt.show()"
   ]
  },
  {
   "cell_type": "markdown",
   "metadata": {},
   "source": [
    "<a name=\"ex1-6\" style=\"color:red\">**Exercise 1-6**</a> **[0.5 point]** What is the average _sentence length_ of sentences in the Penn Treebank? How does it change along the pre-processing steps (tokenization, lowercasing, other transformations)."
   ]
  },
  {
   "cell_type": "code",
   "execution_count": 25,
   "metadata": {},
   "outputs": [
    {
     "name": "stdout",
     "output_type": "stream",
     "text": [
      "Average sentence lengths per set of tokens\n",
      "first tokens: 23.47057189748769\n",
      "tokens without punctuation: 20.793132180280267\n",
      "lowercase tokens without punctuation: 20.793132180280267\n",
      "lowercase tokens without punctuation and removed non-words: 19.015452594369396\n"
     ]
    }
   ],
   "source": [
    "# Get number of sentences\n",
    "number_sentences = len(filecontent.split('\\n'))\n",
    "# Print number of tokens divided by number of sentences\n",
    "print(\"Average sentence lengths per set of tokens\")\n",
    "print(f\"first tokens: {number_tokens/number_sentences}\")\n",
    "print(f\"tokens without punctuation: {number_no_punct_tokens/number_sentences}\")\n",
    "print(f\"lowercase tokens without punctuation: {len(lower_no_punct_tokens)/number_sentences}\")\n",
    "print(f\"lowercase tokens without punctuation and removed non-words: {len(real_words_lower_no_punct_tokens)/number_sentences}\")"
   ]
  },
  {
   "cell_type": "code",
   "execution_count": null,
   "metadata": {},
   "outputs": [],
   "source": []
  }
 ],
 "metadata": {
  "anaconda-cloud": {},
  "kernelspec": {
   "display_name": "Python 3",
   "language": "python",
   "name": "python3"
  },
  "language_info": {
   "codemirror_mode": {
    "name": "ipython",
    "version": 3
   },
   "file_extension": ".py",
   "mimetype": "text/x-python",
   "name": "python",
   "nbconvert_exporter": "python",
   "pygments_lexer": "ipython3",
   "version": "3.6.3"
  }
 },
 "nbformat": 4,
 "nbformat_minor": 2
}
